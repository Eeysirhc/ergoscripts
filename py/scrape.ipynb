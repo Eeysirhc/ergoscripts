{
 "cells": [
  {
   "cell_type": "code",
   "execution_count": 477,
   "metadata": {},
   "outputs": [],
   "source": [
    "#pip3 install wheel\n",
    "#pip3 install pandas\n",
    "\n",
    "import pandas as pd\n",
    "import requests\n",
    "pd.set_option('display.float_format', lambda x: '%.3f' % x)\n",
    "pd.options.display.max_rows = 999\n",
    "\n",
    "#!pip3 install seaborn\n",
    "import pandas as pd\n",
    "import numpy as np\n",
    "import seaborn as sns\n",
    "import matplotlib.pyplot as plt\n",
    "plt.rcParams['figure.figsize'] = (20.0, 10.0)"
   ]
  },
  {
   "cell_type": "code",
   "execution_count": 478,
   "metadata": {},
   "outputs": [
    {
     "name": "stdout",
     "output_type": "stream",
     "text": [
      "Total record: 27728\n",
      "0\n",
      "500\n",
      "1000\n",
      "1500\n",
      "2000\n",
      "2500\n",
      "3000\n",
      "3500\n",
      "4000\n",
      "4500\n",
      "5000\n",
      "5500\n",
      "6000\n",
      "6500\n",
      "7000\n",
      "7500\n",
      "8000\n",
      "8500\n",
      "9000\n",
      "9500\n",
      "10000\n",
      "10500\n",
      "11000\n",
      "11500\n",
      "12000\n",
      "12500\n",
      "13000\n",
      "13500\n",
      "14000\n",
      "14500\n",
      "15000\n",
      "15500\n",
      "16000\n",
      "16500\n",
      "17000\n",
      "17500\n",
      "18000\n",
      "18500\n",
      "19000\n",
      "19500\n",
      "20000\n",
      "20500\n",
      "21000\n",
      "21500\n",
      "22000\n",
      "22500\n",
      "23000\n",
      "23500\n",
      "24000\n",
      "24500\n",
      "25000\n",
      "25500\n",
      "26000\n",
      "26500\n",
      "27000\n",
      "27500\n"
     ]
    }
   ],
   "source": [
    "# find out total number of pages\n",
    "url = 'https://api.ergoplatform.com/api/v1/tokens?limit=500&offset=' + str(i)\n",
    "r = requests.get(url)\n",
    "json = r.json()\n",
    "total_record = int(json['total'])\n",
    "print(\"Total record: \" +str(total_record))\n",
    "\n",
    "# results will be appended to this list\n",
    "all_items = []\n",
    "\n",
    "for offset in range(0,total_record,500):\n",
    "    url = \"https://api.ergoplatform.com/api/v1/tokens?limit=500&offset=\"+str(offset)              \n",
    "    r = requests.get(url)      \n",
    "    json = r.json() \n",
    "    all_items.append(json)        \n",
    "    print(offset)"
   ]
  },
  {
   "cell_type": "code",
   "execution_count": 479,
   "metadata": {},
   "outputs": [
    {
     "data": {
      "text/html": [
       "<div>\n",
       "<style scoped>\n",
       "    .dataframe tbody tr th:only-of-type {\n",
       "        vertical-align: middle;\n",
       "    }\n",
       "\n",
       "    .dataframe tbody tr th {\n",
       "        vertical-align: top;\n",
       "    }\n",
       "\n",
       "    .dataframe thead th {\n",
       "        text-align: right;\n",
       "    }\n",
       "</style>\n",
       "<table border=\"1\" class=\"dataframe\">\n",
       "  <thead>\n",
       "    <tr style=\"text-align: right;\">\n",
       "      <th></th>\n",
       "      <th>id</th>\n",
       "      <th>name</th>\n",
       "      <th>description</th>\n",
       "    </tr>\n",
       "  </thead>\n",
       "  <tbody>\n",
       "    <tr>\n",
       "      <th>0</th>\n",
       "      <td>a22113b6beb75fee014055644f3223ba6274f7b5b7136f...</td>\n",
       "      <td>ergopad Stake Key</td>\n",
       "      <td>{\"originalAmountStaked\": 41359.36, \"stakeTime\"...</td>\n",
       "    </tr>\n",
       "    <tr>\n",
       "      <th>1</th>\n",
       "      <td>90bea4dae9cbfb22f5862d7565581788aa6713bc74d522...</td>\n",
       "      <td>ergopad Stake Key</td>\n",
       "      <td>{\"originalAmountStaked\": 1194.79, \"stakeTime\":...</td>\n",
       "    </tr>\n",
       "    <tr>\n",
       "      <th>2</th>\n",
       "      <td>586a71a739fac06020d8e5d47a8999d502a0e83316e9b1...</td>\n",
       "      <td>ergopad Stake Key</td>\n",
       "      <td>{\"originalAmountStaked\": 2424.27, \"stakeTime\":...</td>\n",
       "    </tr>\n",
       "    <tr>\n",
       "      <th>3</th>\n",
       "      <td>3f02dadbff463b8dbf0494d01f2f41b6115cf24e2e837a...</td>\n",
       "      <td>ergopad Stake Key</td>\n",
       "      <td>{\"originalAmountStaked\": 540.8, \"stakeTime\": \"...</td>\n",
       "    </tr>\n",
       "    <tr>\n",
       "      <th>4</th>\n",
       "      <td>96804af00513ae139b039d166345b62b950416feb137e9...</td>\n",
       "      <td>ergopad Stake Key</td>\n",
       "      <td>{\"originalAmountStaked\": 2129.5, \"stakeTime\": ...</td>\n",
       "    </tr>\n",
       "  </tbody>\n",
       "</table>\n",
       "</div>"
      ],
      "text/plain": [
       "                                                  id               name  \\\n",
       "0  a22113b6beb75fee014055644f3223ba6274f7b5b7136f...  ergopad Stake Key   \n",
       "1  90bea4dae9cbfb22f5862d7565581788aa6713bc74d522...  ergopad Stake Key   \n",
       "2  586a71a739fac06020d8e5d47a8999d502a0e83316e9b1...  ergopad Stake Key   \n",
       "3  3f02dadbff463b8dbf0494d01f2f41b6115cf24e2e837a...  ergopad Stake Key   \n",
       "4  96804af00513ae139b039d166345b62b950416feb137e9...  ergopad Stake Key   \n",
       "\n",
       "                                         description  \n",
       "0  {\"originalAmountStaked\": 41359.36, \"stakeTime\"...  \n",
       "1  {\"originalAmountStaked\": 1194.79, \"stakeTime\":...  \n",
       "2  {\"originalAmountStaked\": 2424.27, \"stakeTime\":...  \n",
       "3  {\"originalAmountStaked\": 540.8, \"stakeTime\": \"...  \n",
       "4  {\"originalAmountStaked\": 2129.5, \"stakeTime\": ...  "
      ]
     },
     "execution_count": 479,
     "metadata": {},
     "output_type": "execute_result"
    }
   ],
   "source": [
    "from pandas import json_normalize\n",
    "import json\n",
    "\n",
    "# normalise the data\n",
    "df = json_normalize(all_items,\"items\",['items'])\n",
    "\n",
    "# drop unwanted columns \n",
    "df = df.drop(['emissionAmount', 'type', 'decimals', 'boxId', 'items' ],axis =1)\n",
    "\n",
    "# keep only stake-keys\n",
    "df = df[df.name.str.contains(\"ergopad Stake Key\").fillna(False)]\n",
    "\n",
    "# for investigating parsing errors \n",
    "# df.to_csv(\"to_fix.csv\", index=False)\n",
    "\n",
    "df.head()\n"
   ]
  },
  {
   "cell_type": "code",
   "execution_count": 480,
   "metadata": {},
   "outputs": [
    {
     "data": {
      "text/plain": [
       "id                      749\n",
       "name                    749\n",
       "originalAmountStaked    749\n",
       "stakeTime               749\n",
       "dtype: int64"
      ]
     },
     "execution_count": 480,
     "metadata": {},
     "output_type": "execute_result"
    }
   ],
   "source": [
    "#df = pd.read_csv(\"to_fix.csv\")\n",
    "\n",
    "# drop 5 problematic rows at end with different format\n",
    "df.drop(df.tail(5).index,inplace=True)\n",
    "\n",
    "# Map JSON in 'description' column to new columns\n",
    "df[['originalAmountStaked','stakeTime']]=df['description'].map(eval).apply(pd.Series)\n",
    "\n",
    "# Drop unwanted column\n",
    "df = df.drop(['description' ],axis =1)\n",
    "\n",
    "# How many stake keys do we have? \n",
    "df.count()\n"
   ]
  },
  {
   "cell_type": "code",
   "execution_count": 487,
   "metadata": {},
   "outputs": [],
   "source": [
    "#pd.reset_option('all')"
   ]
  },
  {
   "cell_type": "code",
   "execution_count": 482,
   "metadata": {},
   "outputs": [
    {
     "data": {
      "text/html": [
       "<div>\n",
       "<style scoped>\n",
       "    .dataframe tbody tr th:only-of-type {\n",
       "        vertical-align: middle;\n",
       "    }\n",
       "\n",
       "    .dataframe tbody tr th {\n",
       "        vertical-align: top;\n",
       "    }\n",
       "\n",
       "    .dataframe thead th {\n",
       "        text-align: right;\n",
       "    }\n",
       "</style>\n",
       "<table border=\"1\" class=\"dataframe\">\n",
       "  <thead>\n",
       "    <tr style=\"text-align: right;\">\n",
       "      <th></th>\n",
       "      <th>id</th>\n",
       "      <th>name</th>\n",
       "      <th>originalAmountStaked</th>\n",
       "      <th>stakeTime</th>\n",
       "    </tr>\n",
       "  </thead>\n",
       "  <tbody>\n",
       "    <tr>\n",
       "      <th>1082</th>\n",
       "      <td>db1f54e1aa84d16756e64bef71362f0d6bc0ee18af25a6...</td>\n",
       "      <td>ergopad Stake Key</td>\n",
       "      <td>3010641.93</td>\n",
       "      <td>2022-02-27 21:30:27.412025</td>\n",
       "    </tr>\n",
       "    <tr>\n",
       "      <th>453</th>\n",
       "      <td>d547395c05dde733b75b6a35517a958915555a199d0b65...</td>\n",
       "      <td>ergopad Stake Key</td>\n",
       "      <td>1000000.00</td>\n",
       "      <td>2022-03-01 17:48:02.340470</td>\n",
       "    </tr>\n",
       "    <tr>\n",
       "      <th>203</th>\n",
       "      <td>147b2789ed1f2a0e60ab325c0bddae94a08a1c6dd23d50...</td>\n",
       "      <td>ergopad Stake Key</td>\n",
       "      <td>1000000.00</td>\n",
       "      <td>2022-03-03 22:43:04.496828</td>\n",
       "    </tr>\n",
       "    <tr>\n",
       "      <th>454</th>\n",
       "      <td>7c0d1d22e0f366a048519357281bd13bbe8e7320665bc1...</td>\n",
       "      <td>ergopad Stake Key</td>\n",
       "      <td>1000000.00</td>\n",
       "      <td>2022-03-01 17:40:58.156367</td>\n",
       "    </tr>\n",
       "    <tr>\n",
       "      <th>895</th>\n",
       "      <td>cb8cf1cf971177767b7429241353576643e8efe88cc0e1...</td>\n",
       "      <td>ergopad Stake Key</td>\n",
       "      <td>666666.00</td>\n",
       "      <td>2022-02-28 02:16:20.097260</td>\n",
       "    </tr>\n",
       "    <tr>\n",
       "      <th>908</th>\n",
       "      <td>85844a18657774dd430d6e8d7cd90f6ec9b50ef166a8ff...</td>\n",
       "      <td>ergopad Stake Key</td>\n",
       "      <td>535353.32</td>\n",
       "      <td>2022-02-28 01:45:08.015809</td>\n",
       "    </tr>\n",
       "    <tr>\n",
       "      <th>1075</th>\n",
       "      <td>6de153bbeb2cddc08229c36100c2097a23147d43d5bcd5...</td>\n",
       "      <td>ergopad Stake Key</td>\n",
       "      <td>500634.66</td>\n",
       "      <td>2022-02-27 21:59:55.880988</td>\n",
       "    </tr>\n",
       "    <tr>\n",
       "      <th>873</th>\n",
       "      <td>f769be443e4715ecb09ab8f5a449b304b7cda01f66bf1a...</td>\n",
       "      <td>ergopad Stake Key</td>\n",
       "      <td>500005.59</td>\n",
       "      <td>2022-02-28 03:29:07.472945</td>\n",
       "    </tr>\n",
       "    <tr>\n",
       "      <th>894</th>\n",
       "      <td>cfccf46a40bc25bd345eb8f429dc3addabbb296fa29a98...</td>\n",
       "      <td>ergopad Stake Key</td>\n",
       "      <td>444426.66</td>\n",
       "      <td>2022-02-28 02:19:29.607355</td>\n",
       "    </tr>\n",
       "    <tr>\n",
       "      <th>1085</th>\n",
       "      <td>7a41e485cbab1822839983765bb0b7b884782fd7b3ad5f...</td>\n",
       "      <td>ergopad Stake Key</td>\n",
       "      <td>429807.95</td>\n",
       "      <td>2022-02-27 20:46:58.995302</td>\n",
       "    </tr>\n",
       "  </tbody>\n",
       "</table>\n",
       "</div>"
      ],
      "text/plain": [
       "                                                     id               name  \\\n",
       "1082  db1f54e1aa84d16756e64bef71362f0d6bc0ee18af25a6...  ergopad Stake Key   \n",
       "453   d547395c05dde733b75b6a35517a958915555a199d0b65...  ergopad Stake Key   \n",
       "203   147b2789ed1f2a0e60ab325c0bddae94a08a1c6dd23d50...  ergopad Stake Key   \n",
       "454   7c0d1d22e0f366a048519357281bd13bbe8e7320665bc1...  ergopad Stake Key   \n",
       "895   cb8cf1cf971177767b7429241353576643e8efe88cc0e1...  ergopad Stake Key   \n",
       "908   85844a18657774dd430d6e8d7cd90f6ec9b50ef166a8ff...  ergopad Stake Key   \n",
       "1075  6de153bbeb2cddc08229c36100c2097a23147d43d5bcd5...  ergopad Stake Key   \n",
       "873   f769be443e4715ecb09ab8f5a449b304b7cda01f66bf1a...  ergopad Stake Key   \n",
       "894   cfccf46a40bc25bd345eb8f429dc3addabbb296fa29a98...  ergopad Stake Key   \n",
       "1085  7a41e485cbab1822839983765bb0b7b884782fd7b3ad5f...  ergopad Stake Key   \n",
       "\n",
       "      originalAmountStaked                   stakeTime  \n",
       "1082            3010641.93  2022-02-27 21:30:27.412025  \n",
       "453             1000000.00  2022-03-01 17:48:02.340470  \n",
       "203             1000000.00  2022-03-03 22:43:04.496828  \n",
       "454             1000000.00  2022-03-01 17:40:58.156367  \n",
       "895              666666.00  2022-02-28 02:16:20.097260  \n",
       "908              535353.32  2022-02-28 01:45:08.015809  \n",
       "1075             500634.66  2022-02-27 21:59:55.880988  \n",
       "873              500005.59  2022-02-28 03:29:07.472945  \n",
       "894              444426.66  2022-02-28 02:19:29.607355  \n",
       "1085             429807.95  2022-02-27 20:46:58.995302  "
      ]
     },
     "execution_count": 482,
     "metadata": {},
     "output_type": "execute_result"
    }
   ],
   "source": [
    "# sort by amount staked\n",
    "df.sort_values(by=['originalAmountStaked'],inplace=True, ascending=False)\n",
    "\n",
    "# save to .csv\n",
    "df.to_csv(\"stakers.csv\", index=False)\n",
    "\n",
    "# Display rich-list\n",
    "df.head(10)"
   ]
  },
  {
   "cell_type": "code",
   "execution_count": 483,
   "metadata": {},
   "outputs": [
    {
     "data": {
      "text/plain": [
       "<seaborn.axisgrid.FacetGrid at 0x299a190a0>"
      ]
     },
     "execution_count": 483,
     "metadata": {},
     "output_type": "execute_result"
    },
    {
     "data": {
      "image/png": "[encoded data removed]",
      "text/plain": [
       "<Figure size 360x360 with 1 Axes>"
      ]
     },
     "metadata": {
      "needs_background": "light"
     },
     "output_type": "display_data"
    }
   ],
   "source": [
    "# Plotting\n",
    "\n",
    "#sns.jointplot(x=df['original'], y=df['time'], data=df, kind='reg')\n",
    "\n",
    "#df.hist()\n",
    "\n",
    "#sns.catplot(x=\"date\", y=\"original\", jitter=False, data=df)\n",
    "#sns.catplot(x=\"original\", y=\"date\", hue=\"time\", kind=\"swarm\", data=df)\n",
    "\n",
    "# Grab just the date\n",
    "df['date'] = df['stakeTime'].str.slice(0,10)\n",
    "\n",
    "# Plot \n",
    "sns.catplot(x=\"originalAmountStaked\", y=\"date\",  data=df)\n",
    "\n"
   ]
  },
  {
   "cell_type": "code",
   "execution_count": 485,
   "metadata": {},
   "outputs": [
    {
     "data": {
      "text/plain": [
       "<seaborn.axisgrid.FacetGrid at 0x29c2712b0>"
      ]
     },
     "execution_count": 485,
     "metadata": {},
     "output_type": "execute_result"
    },
    {
     "data": {
      "image/png": "[encoded data removed]",
      "text/plain": [
       "<Figure size 360x360 with 1 Axes>"
      ]
     },
     "metadata": {
      "needs_background": "light"
     },
     "output_type": "display_data"
    }
   ],
   "source": [
    "# violin plot\n",
    "sns.catplot(x=\"date\", y=\"originalAmountStaked\", hue=\"date\",\n",
    "            kind=\"violin\", data=df)"
   ]
  },
  {
   "cell_type": "code",
   "execution_count": 489,
   "metadata": {},
   "outputs": [
    {
     "data": {
      "text/plain": [
       "<AxesSubplot:xlabel='originalAmountStaked'>"
      ]
     },
     "execution_count": 489,
     "metadata": {},
     "output_type": "execute_result"
    },
    {
     "data": {
      "image/png": "[encoded data removed]",
      "text/plain": [
       "<Figure size 1440x720 with 1 Axes>"
      ]
     },
     "metadata": {
      "needs_background": "light"
     },
     "output_type": "display_data"
    }
   ],
   "source": [
    "# box-plot\n",
    "sns.boxplot(x = 'originalAmountStaked', data = df, showfliers = False)"
   ]
  },
  {
   "cell_type": "code",
   "execution_count": 490,
   "metadata": {},
   "outputs": [
    {
     "data": {
      "text/html": [
       "<div>\n",
       "<style scoped>\n",
       "    .dataframe tbody tr th:only-of-type {\n",
       "        vertical-align: middle;\n",
       "    }\n",
       "\n",
       "    .dataframe tbody tr th {\n",
       "        vertical-align: top;\n",
       "    }\n",
       "\n",
       "    .dataframe thead th {\n",
       "        text-align: right;\n",
       "    }\n",
       "</style>\n",
       "<table border=\"1\" class=\"dataframe\">\n",
       "  <thead>\n",
       "    <tr style=\"text-align: right;\">\n",
       "      <th></th>\n",
       "      <th>id</th>\n",
       "      <th>name</th>\n",
       "      <th>originalAmountStaked</th>\n",
       "      <th>stakeTime</th>\n",
       "      <th>date</th>\n",
       "    </tr>\n",
       "  </thead>\n",
       "  <tbody>\n",
       "    <tr>\n",
       "      <th>406</th>\n",
       "      <td>bafc3dbb52720bab21ce5a525f657573e93f0d11036204...</td>\n",
       "      <td>ergopad Stake Key</td>\n",
       "      <td>250000.00</td>\n",
       "      <td>2022-03-02 00:32:36.337827</td>\n",
       "      <td>2022-03-02</td>\n",
       "    </tr>\n",
       "    <tr>\n",
       "      <th>823</th>\n",
       "      <td>2c55eea1a38320cb3f0ed8ba7e6450073b197b51f7c163...</td>\n",
       "      <td>ergopad Stake Key</td>\n",
       "      <td>228971.83</td>\n",
       "      <td>2022-02-28 05:46:40.188686</td>\n",
       "      <td>2022-02-28</td>\n",
       "    </tr>\n",
       "    <tr>\n",
       "      <th>416</th>\n",
       "      <td>9862d48c6db0a3f6ce7688b1e4ce20e40131ba308e2c74...</td>\n",
       "      <td>ergopad Stake Key</td>\n",
       "      <td>225000.00</td>\n",
       "      <td>2022-03-02 00:08:42.301836</td>\n",
       "      <td>2022-03-02</td>\n",
       "    </tr>\n",
       "    <tr>\n",
       "      <th>448</th>\n",
       "      <td>85e8e7bee63ed8415be9acea4c3d2ddffe33944c42ccb6...</td>\n",
       "      <td>ergopad Stake Key</td>\n",
       "      <td>216666.66</td>\n",
       "      <td>2022-03-01 18:14:15.823584</td>\n",
       "      <td>2022-03-01</td>\n",
       "    </tr>\n",
       "    <tr>\n",
       "      <th>793</th>\n",
       "      <td>851301d6f325d0f3cab8ca917c9a276be037d00418302d...</td>\n",
       "      <td>ergopad Stake Key</td>\n",
       "      <td>208525.57</td>\n",
       "      <td>2022-02-28 07:40:02.825678</td>\n",
       "      <td>2022-02-28</td>\n",
       "    </tr>\n",
       "  </tbody>\n",
       "</table>\n",
       "</div>"
      ],
      "text/plain": [
       "                                                    id               name  \\\n",
       "406  bafc3dbb52720bab21ce5a525f657573e93f0d11036204...  ergopad Stake Key   \n",
       "823  2c55eea1a38320cb3f0ed8ba7e6450073b197b51f7c163...  ergopad Stake Key   \n",
       "416  9862d48c6db0a3f6ce7688b1e4ce20e40131ba308e2c74...  ergopad Stake Key   \n",
       "448  85e8e7bee63ed8415be9acea4c3d2ddffe33944c42ccb6...  ergopad Stake Key   \n",
       "793  851301d6f325d0f3cab8ca917c9a276be037d00418302d...  ergopad Stake Key   \n",
       "\n",
       "     originalAmountStaked                   stakeTime        date  \n",
       "406             250000.00  2022-03-02 00:32:36.337827  2022-03-02  \n",
       "823             228971.83  2022-02-28 05:46:40.188686  2022-02-28  \n",
       "416             225000.00  2022-03-02 00:08:42.301836  2022-03-02  \n",
       "448             216666.66  2022-03-01 18:14:15.823584  2022-03-01  \n",
       "793             208525.57  2022-02-28 07:40:02.825678  2022-02-28  "
      ]
     },
     "execution_count": 490,
     "metadata": {},
     "output_type": "execute_result"
    }
   ],
   "source": [
    "# trimming top 20 \n",
    "df_trim = df.iloc[20: , :]\n",
    "df_trim.head(5)"
   ]
  },
  {
   "cell_type": "code",
   "execution_count": 491,
   "metadata": {},
   "outputs": [
    {
     "data": {
      "text/plain": [
       "<seaborn.axisgrid.FacetGrid at 0x29c1bc0d0>"
      ]
     },
     "execution_count": 491,
     "metadata": {},
     "output_type": "execute_result"
    },
    {
     "data": {
      "image/png": "[encoded data removed]",
      "text/plain": [
       "<Figure size 360x360 with 1 Axes>"
      ]
     },
     "metadata": {
      "needs_background": "light"
     },
     "output_type": "display_data"
    }
   ],
   "source": [
    "# Distribution without the top 20\n",
    "sns.catplot(x=\"originalAmountStaked\", y=\"date\",  data=df_trim)"
   ]
  },
  {
   "cell_type": "code",
   "execution_count": null,
   "metadata": {},
   "outputs": [
    {
     "data": {
      "text/plain": [
       "<seaborn.axisgrid.FacetGrid at 0x17a645460>"
      ]
     },
     "execution_count": 302,
     "metadata": {},
     "output_type": "execute_result"
    },
    {
     "data": {
      "image/png": "[encoded data removed]",
      "text/plain": [
       "<Figure size 360x360 with 1 Axes>"
      ]
     },
     "metadata": {
      "needs_background": "light"
     },
     "output_type": "display_data"
    }
   ],
   "source": [
    "sns.catplot(x=\"date\", y=\"original\", hue=\"date\",\n",
    "            kind=\"violin\", data=df_trim)"
   ]
  },
  {
   "cell_type": "code",
   "execution_count": null,
   "metadata": {},
   "outputs": [],
   "source": []
  }
 ],
 "metadata": {
  "interpreter": {
   "hash": "b0fa6594d8f4cbf19f97940f81e996739fb7646882a419484c72d19e05852a7e"
  },
  "kernelspec": {
   "display_name": "Python 3.9.9 64-bit",
   "language": "python",
   "name": "python3"
  },
  "language_info": {
   "codemirror_mode": {
    "name": "ipython",
    "version": 3
   },
   "file_extension": ".py",
   "mimetype": "text/x-python",
   "name": "python",
   "nbconvert_exporter": "python",
   "pygments_lexer": "ipython3",
   "version": "3.8.9"
  },
  "orig_nbformat": 4
 },
 "nbformat": 4,
 "nbformat_minor": 2
}

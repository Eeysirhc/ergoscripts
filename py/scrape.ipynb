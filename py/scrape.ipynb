{
 "cells": [
  {
   "cell_type": "code",
   "execution_count": 303,
   "metadata": {},
   "outputs": [],
   "source": [
    "#pip3 install wheel\n",
    "#pip3 install pandas\n",
    "\n",
    "import pandas as pd\n",
    "import requests\n",
    "pd.set_option('display.float_format', lambda x: '%.3f' % x)\n",
    "pd.options.display.max_rows = 999\n",
    "\n",
    "#!pip3 install seaborn\n",
    "import pandas as pd\n",
    "import numpy as np\n",
    "import seaborn as sns\n",
    "import matplotlib.pyplot as plt\n",
    "plt.rcParams['figure.figsize'] = (20.0, 10.0)"
   ]
  },
  {
   "cell_type": "code",
   "execution_count": 312,
   "metadata": {},
   "outputs": [],
   "source": [
    "# Request the JSON from the API\n",
    "\n",
    "for p in range(1,50):\n",
    "    url = 'https://api.ergoplatform.com/api/v1/tokens?limit=500&page=' + str(p)\n",
    "    r = requests.get(url)\n",
    "    json = r.json()\n",
    "\n"
   ]
  },
  {
   "cell_type": "code",
   "execution_count": 313,
   "metadata": {},
   "outputs": [
    {
     "data": {
      "text/plain": [
       "27656"
      ]
     },
     "execution_count": 313,
     "metadata": {},
     "output_type": "execute_result"
    }
   ],
   "source": [
    "# Query the JSON\n",
    "\n",
    "#json.keys()\n",
    "\n",
    "#json['items']\n",
    "\n",
    "json['total']\n",
    "\n",
    "#json"
   ]
  },
  {
   "cell_type": "code",
   "execution_count": 314,
   "metadata": {},
   "outputs": [
    {
     "data": {
      "text/html": [
       "<div>\n",
       "<style scoped>\n",
       "    .dataframe tbody tr th:only-of-type {\n",
       "        vertical-align: middle;\n",
       "    }\n",
       "\n",
       "    .dataframe tbody tr th {\n",
       "        vertical-align: top;\n",
       "    }\n",
       "\n",
       "    .dataframe thead th {\n",
       "        text-align: right;\n",
       "    }\n",
       "</style>\n",
       "<table border=\"1\" class=\"dataframe\">\n",
       "  <thead>\n",
       "    <tr style=\"text-align: right;\">\n",
       "      <th></th>\n",
       "      <th>id</th>\n",
       "      <th>boxId</th>\n",
       "      <th>emissionAmount</th>\n",
       "      <th>name</th>\n",
       "      <th>description</th>\n",
       "      <th>type</th>\n",
       "      <th>decimals</th>\n",
       "    </tr>\n",
       "  </thead>\n",
       "  <tbody>\n",
       "    <tr>\n",
       "      <th>0</th>\n",
       "      <td>b2483fc6f8f7e5b5d9a047aba774e13536f3ee4e0b2170...</td>\n",
       "      <td>bc24bd9b41af4deb6d3196cee87cda93412ebc46b63f42...</td>\n",
       "      <td>1</td>\n",
       "      <td>ergopad Stake Key</td>\n",
       "      <td>{\"originalAmountStaked\": 10986.66, \"stakeTime\"...</td>\n",
       "      <td>EIP-004</td>\n",
       "      <td>0</td>\n",
       "    </tr>\n",
       "    <tr>\n",
       "      <th>1</th>\n",
       "      <td>0d6c3dd2e45b4eb7ea018363e36a71ec8cfc09906d8065...</td>\n",
       "      <td>6faffff4ab96691813e89c8637cd3bdd0b71a49de31893...</td>\n",
       "      <td>1</td>\n",
       "      <td>ergopad Stake Key</td>\n",
       "      <td>{\"originalAmountStaked\": 503.23, \"stakeTime\": ...</td>\n",
       "      <td>EIP-004</td>\n",
       "      <td>0</td>\n",
       "    </tr>\n",
       "    <tr>\n",
       "      <th>11</th>\n",
       "      <td>95c3f840ab426ff08b5c2019d7c267f68199792db51192...</td>\n",
       "      <td>e6556e5ceb4428c83a4abc268c5a99eb3ac16bd2febebb...</td>\n",
       "      <td>1</td>\n",
       "      <td>ergopad Stake Key</td>\n",
       "      <td>{\"originalAmountStaked\": 21888.66, \"stakeTime\"...</td>\n",
       "      <td>EIP-004</td>\n",
       "      <td>0</td>\n",
       "    </tr>\n",
       "  </tbody>\n",
       "</table>\n",
       "</div>"
      ],
      "text/plain": [
       "                                                   id  \\\n",
       "0   b2483fc6f8f7e5b5d9a047aba774e13536f3ee4e0b2170...   \n",
       "1   0d6c3dd2e45b4eb7ea018363e36a71ec8cfc09906d8065...   \n",
       "11  95c3f840ab426ff08b5c2019d7c267f68199792db51192...   \n",
       "\n",
       "                                                boxId  emissionAmount  \\\n",
       "0   bc24bd9b41af4deb6d3196cee87cda93412ebc46b63f42...               1   \n",
       "1   6faffff4ab96691813e89c8637cd3bdd0b71a49de31893...               1   \n",
       "11  e6556e5ceb4428c83a4abc268c5a99eb3ac16bd2febebb...               1   \n",
       "\n",
       "                 name                                        description  \\\n",
       "0   ergopad Stake Key  {\"originalAmountStaked\": 10986.66, \"stakeTime\"...   \n",
       "1   ergopad Stake Key  {\"originalAmountStaked\": 503.23, \"stakeTime\": ...   \n",
       "11  ergopad Stake Key  {\"originalAmountStaked\": 21888.66, \"stakeTime\"...   \n",
       "\n",
       "       type  decimals  \n",
       "0   EIP-004         0  \n",
       "1   EIP-004         0  \n",
       "11  EIP-004         0  "
      ]
     },
     "execution_count": 314,
     "metadata": {},
     "output_type": "execute_result"
    }
   ],
   "source": [
    "# load json into a dataframe\n",
    "df = pd.DataFrame(json['items'])\n",
    "\n",
    "df2 = df[df['name'].str.contains(\"ergopad\")]\n",
    "\n",
    "df2.head(3)\n",
    "#df2.count()"
   ]
  },
  {
   "cell_type": "code",
   "execution_count": 315,
   "metadata": {},
   "outputs": [
    {
     "data": {
      "text/html": [
       "<div>\n",
       "<style scoped>\n",
       "    .dataframe tbody tr th:only-of-type {\n",
       "        vertical-align: middle;\n",
       "    }\n",
       "\n",
       "    .dataframe tbody tr th {\n",
       "        vertical-align: top;\n",
       "    }\n",
       "\n",
       "    .dataframe thead th {\n",
       "        text-align: right;\n",
       "    }\n",
       "</style>\n",
       "<table border=\"1\" class=\"dataframe\">\n",
       "  <thead>\n",
       "    <tr style=\"text-align: right;\">\n",
       "      <th></th>\n",
       "      <th>id</th>\n",
       "      <th>boxId</th>\n",
       "      <th>description</th>\n",
       "    </tr>\n",
       "  </thead>\n",
       "  <tbody>\n",
       "    <tr>\n",
       "      <th>0</th>\n",
       "      <td>b2483fc6f8f7e5b5d9a047aba774e13536f3ee4e0b2170...</td>\n",
       "      <td>bc24bd9b41af4deb6d3196cee87cda93412ebc46b63f42...</td>\n",
       "      <td>{\"originalAmountStaked\": 10986.66, \"stakeTime\"...</td>\n",
       "    </tr>\n",
       "    <tr>\n",
       "      <th>1</th>\n",
       "      <td>0d6c3dd2e45b4eb7ea018363e36a71ec8cfc09906d8065...</td>\n",
       "      <td>6faffff4ab96691813e89c8637cd3bdd0b71a49de31893...</td>\n",
       "      <td>{\"originalAmountStaked\": 503.23, \"stakeTime\": ...</td>\n",
       "    </tr>\n",
       "    <tr>\n",
       "      <th>11</th>\n",
       "      <td>95c3f840ab426ff08b5c2019d7c267f68199792db51192...</td>\n",
       "      <td>e6556e5ceb4428c83a4abc268c5a99eb3ac16bd2febebb...</td>\n",
       "      <td>{\"originalAmountStaked\": 21888.66, \"stakeTime\"...</td>\n",
       "    </tr>\n",
       "  </tbody>\n",
       "</table>\n",
       "</div>"
      ],
      "text/plain": [
       "                                                   id  \\\n",
       "0   b2483fc6f8f7e5b5d9a047aba774e13536f3ee4e0b2170...   \n",
       "1   0d6c3dd2e45b4eb7ea018363e36a71ec8cfc09906d8065...   \n",
       "11  95c3f840ab426ff08b5c2019d7c267f68199792db51192...   \n",
       "\n",
       "                                                boxId  \\\n",
       "0   bc24bd9b41af4deb6d3196cee87cda93412ebc46b63f42...   \n",
       "1   6faffff4ab96691813e89c8637cd3bdd0b71a49de31893...   \n",
       "11  e6556e5ceb4428c83a4abc268c5a99eb3ac16bd2febebb...   \n",
       "\n",
       "                                          description  \n",
       "0   {\"originalAmountStaked\": 10986.66, \"stakeTime\"...  \n",
       "1   {\"originalAmountStaked\": 503.23, \"stakeTime\": ...  \n",
       "11  {\"originalAmountStaked\": 21888.66, \"stakeTime\"...  "
      ]
     },
     "execution_count": 315,
     "metadata": {},
     "output_type": "execute_result"
    }
   ],
   "source": [
    "# Drop irrelevant columns\n",
    "df2 = df2.drop(['emissionAmount', 'type', 'decimals','name' ],axis =1)\n",
    "df2.head(3)"
   ]
  },
  {
   "cell_type": "code",
   "execution_count": 316,
   "metadata": {},
   "outputs": [
    {
     "data": {
      "text/html": [
       "<div>\n",
       "<style scoped>\n",
       "    .dataframe tbody tr th:only-of-type {\n",
       "        vertical-align: middle;\n",
       "    }\n",
       "\n",
       "    .dataframe tbody tr th {\n",
       "        vertical-align: top;\n",
       "    }\n",
       "\n",
       "    .dataframe thead th {\n",
       "        text-align: right;\n",
       "    }\n",
       "</style>\n",
       "<table border=\"1\" class=\"dataframe\">\n",
       "  <thead>\n",
       "    <tr style=\"text-align: right;\">\n",
       "      <th></th>\n",
       "      <th>id</th>\n",
       "      <th>boxId</th>\n",
       "      <th>description</th>\n",
       "      <th>original</th>\n",
       "      <th>time</th>\n",
       "    </tr>\n",
       "  </thead>\n",
       "  <tbody>\n",
       "    <tr>\n",
       "      <th>0</th>\n",
       "      <td>b2483fc6f8f7e5b5d9a047aba774e13536f3ee4e0b2170...</td>\n",
       "      <td>bc24bd9b41af4deb6d3196cee87cda93412ebc46b63f42...</td>\n",
       "      <td>{\"originalAmountStaked\": 10986.66, \"stakeTime\"...</td>\n",
       "      <td>10986.660</td>\n",
       "      <td>2022-03-05 13:50:00.526547</td>\n",
       "    </tr>\n",
       "    <tr>\n",
       "      <th>1</th>\n",
       "      <td>0d6c3dd2e45b4eb7ea018363e36a71ec8cfc09906d8065...</td>\n",
       "      <td>6faffff4ab96691813e89c8637cd3bdd0b71a49de31893...</td>\n",
       "      <td>{\"originalAmountStaked\": 503.23, \"stakeTime\": ...</td>\n",
       "      <td>503.230</td>\n",
       "      <td>2022-03-05 13:45:53.367203</td>\n",
       "    </tr>\n",
       "    <tr>\n",
       "      <th>11</th>\n",
       "      <td>95c3f840ab426ff08b5c2019d7c267f68199792db51192...</td>\n",
       "      <td>e6556e5ceb4428c83a4abc268c5a99eb3ac16bd2febebb...</td>\n",
       "      <td>{\"originalAmountStaked\": 21888.66, \"stakeTime\"...</td>\n",
       "      <td>21888.660</td>\n",
       "      <td>2022-03-05 12:20:25.810959</td>\n",
       "    </tr>\n",
       "    <tr>\n",
       "      <th>12</th>\n",
       "      <td>9ecf8f182361217595a29ba3a70637708d0e54dacbd2f6...</td>\n",
       "      <td>f4eaea7623644d5d02e7eb69e392adcf5d3d4b87635b7c...</td>\n",
       "      <td>{\"originalAmountStaked\": 2216.66, \"stakeTime\":...</td>\n",
       "      <td>2216.660</td>\n",
       "      <td>2022-03-05 12:10:14.421071</td>\n",
       "    </tr>\n",
       "    <tr>\n",
       "      <th>18</th>\n",
       "      <td>4fda43fc3b257978b5e7f9b3fd82f037f6114348d7adbc...</td>\n",
       "      <td>790d7edb33558ebb50183072f755efc10bc6cc7c1a408d...</td>\n",
       "      <td>{\"originalAmountStaked\": 354.06, \"stakeTime\": ...</td>\n",
       "      <td>354.060</td>\n",
       "      <td>2022-03-05 12:05:02.636429</td>\n",
       "    </tr>\n",
       "    <tr>\n",
       "      <th>19</th>\n",
       "      <td>c1ee0d89ecf7bcbafa40dc3b07f85cb0ba690e6ab8ed80...</td>\n",
       "      <td>04f495688e276a2a7cc97eb39fb5cbcc6a081eb0d20263...</td>\n",
       "      <td>{\"originalAmountStaked\": 20.31, \"stakeTime\": \"...</td>\n",
       "      <td>20.310</td>\n",
       "      <td>2022-03-05 12:03:28.783308</td>\n",
       "    </tr>\n",
       "    <tr>\n",
       "      <th>21</th>\n",
       "      <td>3d8d9586234e6d69cda602c61984c2358b43d25fba7b34...</td>\n",
       "      <td>a179fcf678d1f956f4ad554de3649243a6080f85600f2b...</td>\n",
       "      <td>{\"originalAmountStaked\": 4604.27, \"stakeTime\":...</td>\n",
       "      <td>4604.270</td>\n",
       "      <td>2022-03-05 11:54:14.619601</td>\n",
       "    </tr>\n",
       "    <tr>\n",
       "      <th>23</th>\n",
       "      <td>83f286a29566ee001d106da2f5d81950ddedf5af5e74a6...</td>\n",
       "      <td>8f427e0442617c9e088578cf00a1744d17d641049a2583...</td>\n",
       "      <td>{\"originalAmountStaked\": 20833.32, \"stakeTime\"...</td>\n",
       "      <td>20833.320</td>\n",
       "      <td>2022-03-05 11:09:13.733111</td>\n",
       "    </tr>\n",
       "    <tr>\n",
       "      <th>24</th>\n",
       "      <td>b853fb4fdbc12b4d3cf9e5c9b361fa1d6d469fc912290d...</td>\n",
       "      <td>978869198cd54e612f0f2129b771d69b03396205f61e6c...</td>\n",
       "      <td>{\"originalAmountStaked\": 11.86, \"stakeTime\": \"...</td>\n",
       "      <td>11.860</td>\n",
       "      <td>2022-03-05 10:53:44.237337</td>\n",
       "    </tr>\n",
       "    <tr>\n",
       "      <th>25</th>\n",
       "      <td>95f78ff919ecc675b8af7d7e76f37755cefc601c8ca2bd...</td>\n",
       "      <td>dd6718c51cee3bd1b97308e72972ef68fa1d2140de6807...</td>\n",
       "      <td>{\"originalAmountStaked\": 759.66, \"stakeTime\": ...</td>\n",
       "      <td>759.660</td>\n",
       "      <td>2022-03-05 10:32:58.508503</td>\n",
       "    </tr>\n",
       "  </tbody>\n",
       "</table>\n",
       "</div>"
      ],
      "text/plain": [
       "                                                   id  \\\n",
       "0   b2483fc6f8f7e5b5d9a047aba774e13536f3ee4e0b2170...   \n",
       "1   0d6c3dd2e45b4eb7ea018363e36a71ec8cfc09906d8065...   \n",
       "11  95c3f840ab426ff08b5c2019d7c267f68199792db51192...   \n",
       "12  9ecf8f182361217595a29ba3a70637708d0e54dacbd2f6...   \n",
       "18  4fda43fc3b257978b5e7f9b3fd82f037f6114348d7adbc...   \n",
       "19  c1ee0d89ecf7bcbafa40dc3b07f85cb0ba690e6ab8ed80...   \n",
       "21  3d8d9586234e6d69cda602c61984c2358b43d25fba7b34...   \n",
       "23  83f286a29566ee001d106da2f5d81950ddedf5af5e74a6...   \n",
       "24  b853fb4fdbc12b4d3cf9e5c9b361fa1d6d469fc912290d...   \n",
       "25  95f78ff919ecc675b8af7d7e76f37755cefc601c8ca2bd...   \n",
       "\n",
       "                                                boxId  \\\n",
       "0   bc24bd9b41af4deb6d3196cee87cda93412ebc46b63f42...   \n",
       "1   6faffff4ab96691813e89c8637cd3bdd0b71a49de31893...   \n",
       "11  e6556e5ceb4428c83a4abc268c5a99eb3ac16bd2febebb...   \n",
       "12  f4eaea7623644d5d02e7eb69e392adcf5d3d4b87635b7c...   \n",
       "18  790d7edb33558ebb50183072f755efc10bc6cc7c1a408d...   \n",
       "19  04f495688e276a2a7cc97eb39fb5cbcc6a081eb0d20263...   \n",
       "21  a179fcf678d1f956f4ad554de3649243a6080f85600f2b...   \n",
       "23  8f427e0442617c9e088578cf00a1744d17d641049a2583...   \n",
       "24  978869198cd54e612f0f2129b771d69b03396205f61e6c...   \n",
       "25  dd6718c51cee3bd1b97308e72972ef68fa1d2140de6807...   \n",
       "\n",
       "                                          description  original  \\\n",
       "0   {\"originalAmountStaked\": 10986.66, \"stakeTime\"... 10986.660   \n",
       "1   {\"originalAmountStaked\": 503.23, \"stakeTime\": ...   503.230   \n",
       "11  {\"originalAmountStaked\": 21888.66, \"stakeTime\"... 21888.660   \n",
       "12  {\"originalAmountStaked\": 2216.66, \"stakeTime\":...  2216.660   \n",
       "18  {\"originalAmountStaked\": 354.06, \"stakeTime\": ...   354.060   \n",
       "19  {\"originalAmountStaked\": 20.31, \"stakeTime\": \"...    20.310   \n",
       "21  {\"originalAmountStaked\": 4604.27, \"stakeTime\":...  4604.270   \n",
       "23  {\"originalAmountStaked\": 20833.32, \"stakeTime\"... 20833.320   \n",
       "24  {\"originalAmountStaked\": 11.86, \"stakeTime\": \"...    11.860   \n",
       "25  {\"originalAmountStaked\": 759.66, \"stakeTime\": ...   759.660   \n",
       "\n",
       "                          time  \n",
       "0   2022-03-05 13:50:00.526547  \n",
       "1   2022-03-05 13:45:53.367203  \n",
       "11  2022-03-05 12:20:25.810959  \n",
       "12  2022-03-05 12:10:14.421071  \n",
       "18  2022-03-05 12:05:02.636429  \n",
       "19  2022-03-05 12:03:28.783308  \n",
       "21  2022-03-05 11:54:14.619601  \n",
       "23  2022-03-05 11:09:13.733111  \n",
       "24  2022-03-05 10:53:44.237337  \n",
       "25  2022-03-05 10:32:58.508503  "
      ]
     },
     "execution_count": 316,
     "metadata": {},
     "output_type": "execute_result"
    }
   ],
   "source": [
    "# Get\n",
    "df2[['original','time']]=df2['description'].map(eval).apply(pd.Series)\n",
    "df2.head(10)"
   ]
  },
  {
   "cell_type": "code",
   "execution_count": 321,
   "metadata": {},
   "outputs": [],
   "source": [
    "df2 = df2.drop(['description' ],axis =1)"
   ]
  },
  {
   "cell_type": "code",
   "execution_count": 319,
   "metadata": {},
   "outputs": [],
   "source": [
    "df2.sort_values(by=['original'])\n",
    "df2.to_csv(\"stakers.csv\", index=False)"
   ]
  },
  {
   "cell_type": "code",
   "execution_count": 320,
   "metadata": {},
   "outputs": [
    {
     "data": {
      "text/plain": [
       "<seaborn.axisgrid.FacetGrid at 0x16de41760>"
      ]
     },
     "execution_count": 320,
     "metadata": {},
     "output_type": "execute_result"
    },
    {
     "data": {
      "image/png": "[encoded data removed]",
      "text/plain": [
       "<Figure size 360x360 with 1 Axes>"
      ]
     },
     "metadata": {
      "needs_background": "light"
     },
     "output_type": "display_data"
    }
   ],
   "source": [
    "df = df2\n",
    "#sns.jointplot(x=df['original'], y=df['time'], data=df, kind='reg')\n",
    "\n",
    "#df.hist()\n",
    "df['date'] = df['time'].str.slice(0,10)\n",
    "sns.catplot(x=\"original\", y=\"date\",  data=df)\n",
    "#sns.catplot(x=\"date\", y=\"original\", jitter=False, data=df)\n",
    "#sns.catplot(x=\"original\", y=\"date\", hue=\"time\", kind=\"swarm\", data=df)\n",
    "\n"
   ]
  },
  {
   "cell_type": "code",
   "execution_count": 296,
   "metadata": {},
   "outputs": [
    {
     "data": {
      "text/plain": [
       "<seaborn.axisgrid.FacetGrid at 0x17a615a30>"
      ]
     },
     "execution_count": 296,
     "metadata": {},
     "output_type": "execute_result"
    },
    {
     "data": {
      "image/png": "[encoded data removed]",
      "text/plain": [
       "<Figure size 360x360 with 1 Axes>"
      ]
     },
     "metadata": {
      "needs_background": "light"
     },
     "output_type": "display_data"
    }
   ],
   "source": [
    "\n",
    "sns.catplot(x=\"date\", y=\"original\", hue=\"date\",\n",
    "            kind=\"violin\", data=df)"
   ]
  },
  {
   "cell_type": "code",
   "execution_count": 297,
   "metadata": {},
   "outputs": [
    {
     "data": {
      "text/plain": [
       "<AxesSubplot:xlabel='original'>"
      ]
     },
     "execution_count": 297,
     "metadata": {},
     "output_type": "execute_result"
    },
    {
     "data": {
      "image/png": "[encoded data removed]",
      "text/plain": [
       "<Figure size 1440x720 with 1 Axes>"
      ]
     },
     "metadata": {
      "needs_background": "light"
     },
     "output_type": "display_data"
    }
   ],
   "source": [
    "sns.boxplot(x = 'original', data = df, showfliers = False)\n"
   ]
  },
  {
   "cell_type": "code",
   "execution_count": 298,
   "metadata": {},
   "outputs": [
    {
     "data": {
      "text/html": [
       "<div>\n",
       "<style scoped>\n",
       "    .dataframe tbody tr th:only-of-type {\n",
       "        vertical-align: middle;\n",
       "    }\n",
       "\n",
       "    .dataframe tbody tr th {\n",
       "        vertical-align: top;\n",
       "    }\n",
       "\n",
       "    .dataframe thead th {\n",
       "        text-align: right;\n",
       "    }\n",
       "</style>\n",
       "<table border=\"1\" class=\"dataframe\">\n",
       "  <thead>\n",
       "    <tr style=\"text-align: right;\">\n",
       "      <th></th>\n",
       "      <th>id</th>\n",
       "      <th>boxId</th>\n",
       "      <th>original</th>\n",
       "      <th>time</th>\n",
       "      <th>date</th>\n",
       "    </tr>\n",
       "  </thead>\n",
       "  <tbody>\n",
       "    <tr>\n",
       "      <th>0</th>\n",
       "      <td>3671f5aaa98784e2d5542625f8facc48c4e836c737d476...</td>\n",
       "      <td>a76151d9e8e6dd1078dffba7937a053fccbdfdb7b4690f...</td>\n",
       "      <td>474.300</td>\n",
       "      <td>2022-03-04 23:07:30.918712</td>\n",
       "      <td>2022-03-04</td>\n",
       "    </tr>\n",
       "    <tr>\n",
       "      <th>1</th>\n",
       "      <td>eac144b8274496f0c8c596ffb503ca0bd4cc281e628059...</td>\n",
       "      <td>228431a3a8ccc957d92a95d8286b98abd0f9e54bab5cf6...</td>\n",
       "      <td>25483.000</td>\n",
       "      <td>2022-03-04 22:45:19.609047</td>\n",
       "      <td>2022-03-04</td>\n",
       "    </tr>\n",
       "    <tr>\n",
       "      <th>2</th>\n",
       "      <td>b6cc57bf09400e2c2dd5d7d3d1afc1f4da38e5abc5914e...</td>\n",
       "      <td>3865ec85b045ab64f7c2b9399142f4a0bc57aefb767109...</td>\n",
       "      <td>5300.000</td>\n",
       "      <td>2022-03-04 22:19:45.665977</td>\n",
       "      <td>2022-03-04</td>\n",
       "    </tr>\n",
       "    <tr>\n",
       "      <th>3</th>\n",
       "      <td>02846c2280e28b59869175b03ff70b09d9818a6380f151...</td>\n",
       "      <td>f0a2cebbd74cb6c9311ca935b7e96af6cbff947aaa1910...</td>\n",
       "      <td>306.150</td>\n",
       "      <td>2022-03-04 21:37:47.708131</td>\n",
       "      <td>2022-03-04</td>\n",
       "    </tr>\n",
       "    <tr>\n",
       "      <th>4</th>\n",
       "      <td>8731653dfcad49af6355f16a5332c02acecbdacc32e86e...</td>\n",
       "      <td>d8fdd14864a03dcea6c9239a94138ebcd355c6dc820bb1...</td>\n",
       "      <td>25638.700</td>\n",
       "      <td>2022-03-04 21:22:18.024438</td>\n",
       "      <td>2022-03-04</td>\n",
       "    </tr>\n",
       "  </tbody>\n",
       "</table>\n",
       "</div>"
      ],
      "text/plain": [
       "                                                  id  \\\n",
       "0  3671f5aaa98784e2d5542625f8facc48c4e836c737d476...   \n",
       "1  eac144b8274496f0c8c596ffb503ca0bd4cc281e628059...   \n",
       "2  b6cc57bf09400e2c2dd5d7d3d1afc1f4da38e5abc5914e...   \n",
       "3  02846c2280e28b59869175b03ff70b09d9818a6380f151...   \n",
       "4  8731653dfcad49af6355f16a5332c02acecbdacc32e86e...   \n",
       "\n",
       "                                               boxId  original  \\\n",
       "0  a76151d9e8e6dd1078dffba7937a053fccbdfdb7b4690f...   474.300   \n",
       "1  228431a3a8ccc957d92a95d8286b98abd0f9e54bab5cf6... 25483.000   \n",
       "2  3865ec85b045ab64f7c2b9399142f4a0bc57aefb767109...  5300.000   \n",
       "3  f0a2cebbd74cb6c9311ca935b7e96af6cbff947aaa1910...   306.150   \n",
       "4  d8fdd14864a03dcea6c9239a94138ebcd355c6dc820bb1... 25638.700   \n",
       "\n",
       "                         time        date  \n",
       "0  2022-03-04 23:07:30.918712  2022-03-04  \n",
       "1  2022-03-04 22:45:19.609047  2022-03-04  \n",
       "2  2022-03-04 22:19:45.665977  2022-03-04  \n",
       "3  2022-03-04 21:37:47.708131  2022-03-04  \n",
       "4  2022-03-04 21:22:18.024438  2022-03-04  "
      ]
     },
     "execution_count": 298,
     "metadata": {},
     "output_type": "execute_result"
    }
   ],
   "source": [
    "df.head(5)"
   ]
  },
  {
   "cell_type": "code",
   "execution_count": 299,
   "metadata": {},
   "outputs": [
    {
     "data": {
      "text/html": [
       "<div>\n",
       "<style scoped>\n",
       "    .dataframe tbody tr th:only-of-type {\n",
       "        vertical-align: middle;\n",
       "    }\n",
       "\n",
       "    .dataframe tbody tr th {\n",
       "        vertical-align: top;\n",
       "    }\n",
       "\n",
       "    .dataframe thead th {\n",
       "        text-align: right;\n",
       "    }\n",
       "</style>\n",
       "<table border=\"1\" class=\"dataframe\">\n",
       "  <thead>\n",
       "    <tr style=\"text-align: right;\">\n",
       "      <th></th>\n",
       "      <th>id</th>\n",
       "      <th>boxId</th>\n",
       "      <th>original</th>\n",
       "      <th>time</th>\n",
       "      <th>date</th>\n",
       "    </tr>\n",
       "  </thead>\n",
       "  <tbody>\n",
       "    <tr>\n",
       "      <th>332</th>\n",
       "      <td>d547395c05dde733b75b6a35517a958915555a199d0b65...</td>\n",
       "      <td>e413c39c752bfb68d7831eb71b1c22ea531b05d4a384f2...</td>\n",
       "      <td>1000000.000</td>\n",
       "      <td>2022-03-01 17:48:02.340470</td>\n",
       "      <td>2022-03-01</td>\n",
       "    </tr>\n",
       "    <tr>\n",
       "      <th>333</th>\n",
       "      <td>7c0d1d22e0f366a048519357281bd13bbe8e7320665bc1...</td>\n",
       "      <td>dacedb86ab3657e24cbe051ad059aab364367e7061d432...</td>\n",
       "      <td>1000000.000</td>\n",
       "      <td>2022-03-01 17:40:58.156367</td>\n",
       "      <td>2022-03-01</td>\n",
       "    </tr>\n",
       "    <tr>\n",
       "      <th>82</th>\n",
       "      <td>147b2789ed1f2a0e60ab325c0bddae94a08a1c6dd23d50...</td>\n",
       "      <td>8166ba75087c9bbc1bade943ce6a90617ec1ebfd33bd87...</td>\n",
       "      <td>1000000.000</td>\n",
       "      <td>2022-03-03 22:43:04.496828</td>\n",
       "      <td>2022-03-03</td>\n",
       "    </tr>\n",
       "    <tr>\n",
       "      <th>228</th>\n",
       "      <td>5ffbc49842f3401678e618c1bee08ffcc081762b15b664...</td>\n",
       "      <td>385b2adb6c5d516147a9966960947330b7e19c449cf760...</td>\n",
       "      <td>420186.980</td>\n",
       "      <td>2022-03-02 12:05:44.550578</td>\n",
       "      <td>2022-03-02</td>\n",
       "    </tr>\n",
       "    <tr>\n",
       "      <th>13</th>\n",
       "      <td>d82a985f19efa433e50cc4a7f7aedc5c11a9f74ced20e5...</td>\n",
       "      <td>70233b92ed0fe81f90842af725a68819e19b792be4d7d7...</td>\n",
       "      <td>377760.000</td>\n",
       "      <td>2022-03-04 17:23:16.206994</td>\n",
       "      <td>2022-03-04</td>\n",
       "    </tr>\n",
       "  </tbody>\n",
       "</table>\n",
       "</div>"
      ],
      "text/plain": [
       "                                                    id  \\\n",
       "332  d547395c05dde733b75b6a35517a958915555a199d0b65...   \n",
       "333  7c0d1d22e0f366a048519357281bd13bbe8e7320665bc1...   \n",
       "82   147b2789ed1f2a0e60ab325c0bddae94a08a1c6dd23d50...   \n",
       "228  5ffbc49842f3401678e618c1bee08ffcc081762b15b664...   \n",
       "13   d82a985f19efa433e50cc4a7f7aedc5c11a9f74ced20e5...   \n",
       "\n",
       "                                                 boxId    original  \\\n",
       "332  e413c39c752bfb68d7831eb71b1c22ea531b05d4a384f2... 1000000.000   \n",
       "333  dacedb86ab3657e24cbe051ad059aab364367e7061d432... 1000000.000   \n",
       "82   8166ba75087c9bbc1bade943ce6a90617ec1ebfd33bd87... 1000000.000   \n",
       "228  385b2adb6c5d516147a9966960947330b7e19c449cf760...  420186.980   \n",
       "13   70233b92ed0fe81f90842af725a68819e19b792be4d7d7...  377760.000   \n",
       "\n",
       "                           time        date  \n",
       "332  2022-03-01 17:48:02.340470  2022-03-01  \n",
       "333  2022-03-01 17:40:58.156367  2022-03-01  \n",
       "82   2022-03-03 22:43:04.496828  2022-03-03  \n",
       "228  2022-03-02 12:05:44.550578  2022-03-02  \n",
       "13   2022-03-04 17:23:16.206994  2022-03-04  "
      ]
     },
     "execution_count": 299,
     "metadata": {},
     "output_type": "execute_result"
    }
   ],
   "source": [
    "df = df.sort_values(by=['original'], ascending=False)\n",
    "df.head(5)"
   ]
  },
  {
   "cell_type": "code",
   "execution_count": 300,
   "metadata": {},
   "outputs": [
    {
     "data": {
      "text/html": [
       "<div>\n",
       "<style scoped>\n",
       "    .dataframe tbody tr th:only-of-type {\n",
       "        vertical-align: middle;\n",
       "    }\n",
       "\n",
       "    .dataframe tbody tr th {\n",
       "        vertical-align: top;\n",
       "    }\n",
       "\n",
       "    .dataframe thead th {\n",
       "        text-align: right;\n",
       "    }\n",
       "</style>\n",
       "<table border=\"1\" class=\"dataframe\">\n",
       "  <thead>\n",
       "    <tr style=\"text-align: right;\">\n",
       "      <th></th>\n",
       "      <th>id</th>\n",
       "      <th>boxId</th>\n",
       "      <th>original</th>\n",
       "      <th>time</th>\n",
       "      <th>date</th>\n",
       "    </tr>\n",
       "  </thead>\n",
       "  <tbody>\n",
       "    <tr>\n",
       "      <th>228</th>\n",
       "      <td>5ffbc49842f3401678e618c1bee08ffcc081762b15b664...</td>\n",
       "      <td>385b2adb6c5d516147a9966960947330b7e19c449cf760...</td>\n",
       "      <td>420186.980</td>\n",
       "      <td>2022-03-02 12:05:44.550578</td>\n",
       "      <td>2022-03-02</td>\n",
       "    </tr>\n",
       "    <tr>\n",
       "      <th>13</th>\n",
       "      <td>d82a985f19efa433e50cc4a7f7aedc5c11a9f74ced20e5...</td>\n",
       "      <td>70233b92ed0fe81f90842af725a68819e19b792be4d7d7...</td>\n",
       "      <td>377760.000</td>\n",
       "      <td>2022-03-04 17:23:16.206994</td>\n",
       "      <td>2022-03-04</td>\n",
       "    </tr>\n",
       "    <tr>\n",
       "      <th>262</th>\n",
       "      <td>86f01bb5909de1a78311fd898a6f44eeb5d81fcff5ef19...</td>\n",
       "      <td>0f9e5f84c65f1a77605d7f4152359ffbfed41a869ef844...</td>\n",
       "      <td>333333.320</td>\n",
       "      <td>2022-03-02 06:17:05.579224</td>\n",
       "      <td>2022-03-02</td>\n",
       "    </tr>\n",
       "    <tr>\n",
       "      <th>242</th>\n",
       "      <td>a1382ed736de1200d77026a5b356ee09b288cc9fca0415...</td>\n",
       "      <td>f039097593ea6b509dd335f523542061b999b03223a2b4...</td>\n",
       "      <td>276703.880</td>\n",
       "      <td>2022-03-02 10:03:13.551156</td>\n",
       "      <td>2022-03-02</td>\n",
       "    </tr>\n",
       "    <tr>\n",
       "      <th>290</th>\n",
       "      <td>bafc3dbb52720bab21ce5a525f657573e93f0d11036204...</td>\n",
       "      <td>edb413fd44a6276188ca2eb7b5bad87edc1039697824e0...</td>\n",
       "      <td>250000.000</td>\n",
       "      <td>2022-03-02 00:32:36.337827</td>\n",
       "      <td>2022-03-02</td>\n",
       "    </tr>\n",
       "  </tbody>\n",
       "</table>\n",
       "</div>"
      ],
      "text/plain": [
       "                                                    id  \\\n",
       "228  5ffbc49842f3401678e618c1bee08ffcc081762b15b664...   \n",
       "13   d82a985f19efa433e50cc4a7f7aedc5c11a9f74ced20e5...   \n",
       "262  86f01bb5909de1a78311fd898a6f44eeb5d81fcff5ef19...   \n",
       "242  a1382ed736de1200d77026a5b356ee09b288cc9fca0415...   \n",
       "290  bafc3dbb52720bab21ce5a525f657573e93f0d11036204...   \n",
       "\n",
       "                                                 boxId   original  \\\n",
       "228  385b2adb6c5d516147a9966960947330b7e19c449cf760... 420186.980   \n",
       "13   70233b92ed0fe81f90842af725a68819e19b792be4d7d7... 377760.000   \n",
       "262  0f9e5f84c65f1a77605d7f4152359ffbfed41a869ef844... 333333.320   \n",
       "242  f039097593ea6b509dd335f523542061b999b03223a2b4... 276703.880   \n",
       "290  edb413fd44a6276188ca2eb7b5bad87edc1039697824e0... 250000.000   \n",
       "\n",
       "                           time        date  \n",
       "228  2022-03-02 12:05:44.550578  2022-03-02  \n",
       "13   2022-03-04 17:23:16.206994  2022-03-04  \n",
       "262  2022-03-02 06:17:05.579224  2022-03-02  \n",
       "242  2022-03-02 10:03:13.551156  2022-03-02  \n",
       "290  2022-03-02 00:32:36.337827  2022-03-02  "
      ]
     },
     "execution_count": 300,
     "metadata": {},
     "output_type": "execute_result"
    }
   ],
   "source": [
    "df_trim = df.iloc[3: , :]\n",
    "df_trim.head(5)"
   ]
  },
  {
   "cell_type": "code",
   "execution_count": 301,
   "metadata": {},
   "outputs": [
    {
     "data": {
      "text/plain": [
       "<seaborn.axisgrid.FacetGrid at 0x1798edd00>"
      ]
     },
     "execution_count": 301,
     "metadata": {},
     "output_type": "execute_result"
    },
    {
     "data": {
      "image/png": "[encoded data removed]",
      "text/plain": [
       "<Figure size 360x360 with 1 Axes>"
      ]
     },
     "metadata": {
      "needs_background": "light"
     },
     "output_type": "display_data"
    }
   ],
   "source": [
    "sns.catplot(x=\"original\", y=\"date\",  data=df_trim)"
   ]
  },
  {
   "cell_type": "code",
   "execution_count": 302,
   "metadata": {},
   "outputs": [
    {
     "data": {
      "text/plain": [
       "<seaborn.axisgrid.FacetGrid at 0x17a645460>"
      ]
     },
     "execution_count": 302,
     "metadata": {},
     "output_type": "execute_result"
    },
    {
     "data": {
      "image/png": "[encoded data removed]",
      "text/plain": [
       "<Figure size 360x360 with 1 Axes>"
      ]
     },
     "metadata": {
      "needs_background": "light"
     },
     "output_type": "display_data"
    }
   ],
   "source": [
    "sns.catplot(x=\"date\", y=\"original\", hue=\"date\",\n",
    "            kind=\"violin\", data=df_trim)"
   ]
  },
  {
   "cell_type": "code",
   "execution_count": null,
   "metadata": {},
   "outputs": [],
   "source": []
  }
 ],
 "metadata": {
  "interpreter": {
   "hash": "b0fa6594d8f4cbf19f97940f81e996739fb7646882a419484c72d19e05852a7e"
  },
  "kernelspec": {
   "display_name": "Python 3.9.9 64-bit",
   "language": "python",
   "name": "python3"
  },
  "language_info": {
   "codemirror_mode": {
    "name": "ipython",
    "version": 3
   },
   "file_extension": ".py",
   "mimetype": "text/x-python",
   "name": "python",
   "nbconvert_exporter": "python",
   "pygments_lexer": "ipython3",
   "version": "3.8.9"
  },
  "orig_nbformat": 4
 },
 "nbformat": 4,
 "nbformat_minor": 2
}

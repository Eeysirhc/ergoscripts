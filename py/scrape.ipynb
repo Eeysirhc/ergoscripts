{
 "cells": [
  {
   "cell_type": "code",
   "execution_count": 495,
   "metadata": {},
   "outputs": [],
   "source": [
    "#pip3 install wheel\n",
    "#pip3 install pandas\n",
    "\n",
    "import pandas as pd\n",
    "import requests\n",
    "pd.set_option('display.float_format', lambda x: '%.3f' % x)\n",
    "pd.options.display.max_rows = 999\n",
    "\n",
    "#!pip3 install seaborn\n",
    "import pandas as pd\n",
    "import numpy as np\n",
    "import seaborn as sns\n",
    "import matplotlib.pyplot as plt\n",
    "plt.rcParams['figure.figsize'] = (20.0, 10.0)"
   ]
  },
  {
   "cell_type": "code",
   "execution_count": 496,
   "metadata": {},
   "outputs": [
    {
     "name": "stdout",
     "output_type": "stream",
     "text": [
      "Total record: 27909\n",
      "0\n",
      "500\n",
      "1000\n",
      "1500\n",
      "2000\n",
      "2500\n",
      "3000\n",
      "3500\n",
      "4000\n",
      "4500\n",
      "5000\n",
      "5500\n",
      "6000\n",
      "6500\n",
      "7000\n",
      "7500\n",
      "8000\n",
      "8500\n",
      "9000\n",
      "9500\n",
      "10000\n",
      "10500\n",
      "11000\n",
      "11500\n",
      "12000\n",
      "12500\n",
      "13000\n",
      "13500\n",
      "14000\n",
      "14500\n",
      "15000\n",
      "15500\n",
      "16000\n",
      "16500\n",
      "17000\n",
      "17500\n",
      "18000\n",
      "18500\n",
      "19000\n",
      "19500\n",
      "20000\n",
      "20500\n",
      "21000\n",
      "21500\n",
      "22000\n",
      "22500\n",
      "23000\n",
      "23500\n",
      "24000\n",
      "24500\n",
      "25000\n",
      "25500\n",
      "26000\n",
      "26500\n",
      "27000\n",
      "27500\n"
     ]
    }
   ],
   "source": [
    "# find out total number of pages\n",
    "url = 'https://api.ergoplatform.com/api/v1/tokens?limit=500&offset=' + str(i)\n",
    "r = requests.get(url)\n",
    "json = r.json()\n",
    "total_record = int(json['total'])\n",
    "print(\"Total record: \" +str(total_record))\n",
    "\n",
    "# results will be appended to this list\n",
    "all_items = []\n",
    "\n",
    "for offset in range(0,total_record,500):\n",
    "    url = \"https://api.ergoplatform.com/api/v1/tokens?limit=500&offset=\"+str(offset)              \n",
    "    r = requests.get(url)      \n",
    "    json = r.json() \n",
    "    all_items.append(json)        \n",
    "    print(offset)"
   ]
  },
  {
   "cell_type": "code",
   "execution_count": 497,
   "metadata": {},
   "outputs": [
    {
     "data": {
      "text/html": [
       "<div>\n",
       "<style scoped>\n",
       "    .dataframe tbody tr th:only-of-type {\n",
       "        vertical-align: middle;\n",
       "    }\n",
       "\n",
       "    .dataframe tbody tr th {\n",
       "        vertical-align: top;\n",
       "    }\n",
       "\n",
       "    .dataframe thead th {\n",
       "        text-align: right;\n",
       "    }\n",
       "</style>\n",
       "<table border=\"1\" class=\"dataframe\">\n",
       "  <thead>\n",
       "    <tr style=\"text-align: right;\">\n",
       "      <th></th>\n",
       "      <th>id</th>\n",
       "      <th>name</th>\n",
       "      <th>description</th>\n",
       "    </tr>\n",
       "  </thead>\n",
       "  <tbody>\n",
       "    <tr>\n",
       "      <th>63</th>\n",
       "      <td>0978e48ee3a02be3eeead06e129fa11db35ff2d6f3c821...</td>\n",
       "      <td>ergopad Stake Key</td>\n",
       "      <td>{\"originalAmountStaked\": 91.34, \"stakeTime\": \"...</td>\n",
       "    </tr>\n",
       "    <tr>\n",
       "      <th>80</th>\n",
       "      <td>bd18ae626d9dc71d1ea120d41338b378a75884495593f7...</td>\n",
       "      <td>ergopad Stake Key</td>\n",
       "      <td>{\"originalAmountStaked\": 24887.82, \"stakeTime\"...</td>\n",
       "    </tr>\n",
       "    <tr>\n",
       "      <th>85</th>\n",
       "      <td>1c96412b00512477dc4c65a84c41090b537bd9f17916ba...</td>\n",
       "      <td>ergopad Stake Key</td>\n",
       "      <td>{\"originalAmountStaked\": 15036.94, \"stakeTime\"...</td>\n",
       "    </tr>\n",
       "    <tr>\n",
       "      <th>86</th>\n",
       "      <td>92f5e993c70f65d7c05ba790bad1ef600a120171919665...</td>\n",
       "      <td>ergopad Stake Key</td>\n",
       "      <td>{\"originalAmountStaked\": 60.21, \"stakeTime\": \"...</td>\n",
       "    </tr>\n",
       "    <tr>\n",
       "      <th>87</th>\n",
       "      <td>95b229050baf1051c3d4ae72d07a0e10e812d603787338...</td>\n",
       "      <td>ergopad Stake Key</td>\n",
       "      <td>{\"originalAmountStaked\": 309.87, \"stakeTime\": ...</td>\n",
       "    </tr>\n",
       "  </tbody>\n",
       "</table>\n",
       "</div>"
      ],
      "text/plain": [
       "                                                   id               name  \\\n",
       "63  0978e48ee3a02be3eeead06e129fa11db35ff2d6f3c821...  ergopad Stake Key   \n",
       "80  bd18ae626d9dc71d1ea120d41338b378a75884495593f7...  ergopad Stake Key   \n",
       "85  1c96412b00512477dc4c65a84c41090b537bd9f17916ba...  ergopad Stake Key   \n",
       "86  92f5e993c70f65d7c05ba790bad1ef600a120171919665...  ergopad Stake Key   \n",
       "87  95b229050baf1051c3d4ae72d07a0e10e812d603787338...  ergopad Stake Key   \n",
       "\n",
       "                                          description  \n",
       "63  {\"originalAmountStaked\": 91.34, \"stakeTime\": \"...  \n",
       "80  {\"originalAmountStaked\": 24887.82, \"stakeTime\"...  \n",
       "85  {\"originalAmountStaked\": 15036.94, \"stakeTime\"...  \n",
       "86  {\"originalAmountStaked\": 60.21, \"stakeTime\": \"...  \n",
       "87  {\"originalAmountStaked\": 309.87, \"stakeTime\": ...  "
      ]
     },
     "execution_count": 497,
     "metadata": {},
     "output_type": "execute_result"
    }
   ],
   "source": [
    "from pandas import json_normalize\n",
    "import json\n",
    "\n",
    "# normalise the data\n",
    "df = json_normalize(all_items,\"items\",['items'])\n",
    "\n",
    "# drop unwanted columns \n",
    "df = df.drop(['emissionAmount', 'type', 'decimals', 'boxId', 'items' ],axis =1)\n",
    "\n",
    "# keep only stake-keys\n",
    "df = df[df.name.str.contains(\"ergopad Stake Key\").fillna(False)]\n",
    "\n",
    "# for investigating parsing errors \n",
    "# df.to_csv(\"to_fix.csv\", index=False)\n",
    "\n",
    "df.head()\n"
   ]
  },
  {
   "cell_type": "code",
   "execution_count": 498,
   "metadata": {},
   "outputs": [
    {
     "data": {
      "text/plain": [
       "id                      801\n",
       "name                    801\n",
       "originalAmountStaked    801\n",
       "stakeTime               801\n",
       "dtype: int64"
      ]
     },
     "execution_count": 498,
     "metadata": {},
     "output_type": "execute_result"
    }
   ],
   "source": [
    "#df = pd.read_csv(\"to_fix.csv\")\n",
    "\n",
    "# drop 5 problematic rows at end with different format\n",
    "df.drop(df.tail(5).index,inplace=True)\n",
    "\n",
    "# Map JSON in 'description' column to new columns\n",
    "df[['originalAmountStaked','stakeTime']]=df['description'].map(eval).apply(pd.Series)\n",
    "\n",
    "# Drop unwanted column\n",
    "df = df.drop(['description' ],axis =1)\n",
    "\n",
    "# How many stake keys do we have? \n",
    "df.count()\n"
   ]
  },
  {
   "cell_type": "code",
   "execution_count": 499,
   "metadata": {},
   "outputs": [],
   "source": [
    "#pd.reset_option('all')"
   ]
  },
  {
   "cell_type": "code",
   "execution_count": 500,
   "metadata": {},
   "outputs": [
    {
     "data": {
      "text/html": [
       "<div>\n",
       "<style scoped>\n",
       "    .dataframe tbody tr th:only-of-type {\n",
       "        vertical-align: middle;\n",
       "    }\n",
       "\n",
       "    .dataframe tbody tr th {\n",
       "        vertical-align: top;\n",
       "    }\n",
       "\n",
       "    .dataframe thead th {\n",
       "        text-align: right;\n",
       "    }\n",
       "</style>\n",
       "<table border=\"1\" class=\"dataframe\">\n",
       "  <thead>\n",
       "    <tr style=\"text-align: right;\">\n",
       "      <th></th>\n",
       "      <th>id</th>\n",
       "      <th>name</th>\n",
       "      <th>originalAmountStaked</th>\n",
       "      <th>stakeTime</th>\n",
       "    </tr>\n",
       "  </thead>\n",
       "  <tbody>\n",
       "    <tr>\n",
       "      <th>1259</th>\n",
       "      <td>db1f54e1aa84d16756e64bef71362f0d6bc0ee18af25a6...</td>\n",
       "      <td>ergopad Stake Key</td>\n",
       "      <td>3010641.930</td>\n",
       "      <td>2022-02-27 21:30:27.412025</td>\n",
       "    </tr>\n",
       "    <tr>\n",
       "      <th>630</th>\n",
       "      <td>d547395c05dde733b75b6a35517a958915555a199d0b65...</td>\n",
       "      <td>ergopad Stake Key</td>\n",
       "      <td>1000000.000</td>\n",
       "      <td>2022-03-01 17:48:02.340470</td>\n",
       "    </tr>\n",
       "    <tr>\n",
       "      <th>631</th>\n",
       "      <td>7c0d1d22e0f366a048519357281bd13bbe8e7320665bc1...</td>\n",
       "      <td>ergopad Stake Key</td>\n",
       "      <td>1000000.000</td>\n",
       "      <td>2022-03-01 17:40:58.156367</td>\n",
       "    </tr>\n",
       "    <tr>\n",
       "      <th>380</th>\n",
       "      <td>147b2789ed1f2a0e60ab325c0bddae94a08a1c6dd23d50...</td>\n",
       "      <td>ergopad Stake Key</td>\n",
       "      <td>1000000.000</td>\n",
       "      <td>2022-03-03 22:43:04.496828</td>\n",
       "    </tr>\n",
       "    <tr>\n",
       "      <th>1072</th>\n",
       "      <td>cb8cf1cf971177767b7429241353576643e8efe88cc0e1...</td>\n",
       "      <td>ergopad Stake Key</td>\n",
       "      <td>666666.000</td>\n",
       "      <td>2022-02-28 02:16:20.097260</td>\n",
       "    </tr>\n",
       "    <tr>\n",
       "      <th>1086</th>\n",
       "      <td>85844a18657774dd430d6e8d7cd90f6ec9b50ef166a8ff...</td>\n",
       "      <td>ergopad Stake Key</td>\n",
       "      <td>535353.320</td>\n",
       "      <td>2022-02-28 01:45:08.015809</td>\n",
       "    </tr>\n",
       "    <tr>\n",
       "      <th>1252</th>\n",
       "      <td>6de153bbeb2cddc08229c36100c2097a23147d43d5bcd5...</td>\n",
       "      <td>ergopad Stake Key</td>\n",
       "      <td>500634.660</td>\n",
       "      <td>2022-02-27 21:59:55.880988</td>\n",
       "    </tr>\n",
       "    <tr>\n",
       "      <th>1050</th>\n",
       "      <td>f769be443e4715ecb09ab8f5a449b304b7cda01f66bf1a...</td>\n",
       "      <td>ergopad Stake Key</td>\n",
       "      <td>500005.590</td>\n",
       "      <td>2022-02-28 03:29:07.472945</td>\n",
       "    </tr>\n",
       "    <tr>\n",
       "      <th>1071</th>\n",
       "      <td>cfccf46a40bc25bd345eb8f429dc3addabbb296fa29a98...</td>\n",
       "      <td>ergopad Stake Key</td>\n",
       "      <td>444426.660</td>\n",
       "      <td>2022-02-28 02:19:29.607355</td>\n",
       "    </tr>\n",
       "    <tr>\n",
       "      <th>1262</th>\n",
       "      <td>7a41e485cbab1822839983765bb0b7b884782fd7b3ad5f...</td>\n",
       "      <td>ergopad Stake Key</td>\n",
       "      <td>429807.950</td>\n",
       "      <td>2022-02-27 20:46:58.995302</td>\n",
       "    </tr>\n",
       "  </tbody>\n",
       "</table>\n",
       "</div>"
      ],
      "text/plain": [
       "                                                     id               name  \\\n",
       "1259  db1f54e1aa84d16756e64bef71362f0d6bc0ee18af25a6...  ergopad Stake Key   \n",
       "630   d547395c05dde733b75b6a35517a958915555a199d0b65...  ergopad Stake Key   \n",
       "631   7c0d1d22e0f366a048519357281bd13bbe8e7320665bc1...  ergopad Stake Key   \n",
       "380   147b2789ed1f2a0e60ab325c0bddae94a08a1c6dd23d50...  ergopad Stake Key   \n",
       "1072  cb8cf1cf971177767b7429241353576643e8efe88cc0e1...  ergopad Stake Key   \n",
       "1086  85844a18657774dd430d6e8d7cd90f6ec9b50ef166a8ff...  ergopad Stake Key   \n",
       "1252  6de153bbeb2cddc08229c36100c2097a23147d43d5bcd5...  ergopad Stake Key   \n",
       "1050  f769be443e4715ecb09ab8f5a449b304b7cda01f66bf1a...  ergopad Stake Key   \n",
       "1071  cfccf46a40bc25bd345eb8f429dc3addabbb296fa29a98...  ergopad Stake Key   \n",
       "1262  7a41e485cbab1822839983765bb0b7b884782fd7b3ad5f...  ergopad Stake Key   \n",
       "\n",
       "      originalAmountStaked                   stakeTime  \n",
       "1259           3010641.930  2022-02-27 21:30:27.412025  \n",
       "630            1000000.000  2022-03-01 17:48:02.340470  \n",
       "631            1000000.000  2022-03-01 17:40:58.156367  \n",
       "380            1000000.000  2022-03-03 22:43:04.496828  \n",
       "1072            666666.000  2022-02-28 02:16:20.097260  \n",
       "1086            535353.320  2022-02-28 01:45:08.015809  \n",
       "1252            500634.660  2022-02-27 21:59:55.880988  \n",
       "1050            500005.590  2022-02-28 03:29:07.472945  \n",
       "1071            444426.660  2022-02-28 02:19:29.607355  \n",
       "1262            429807.950  2022-02-27 20:46:58.995302  "
      ]
     },
     "execution_count": 500,
     "metadata": {},
     "output_type": "execute_result"
    }
   ],
   "source": [
    "# sort by amount staked\n",
    "df.sort_values(by=['originalAmountStaked'],inplace=True, ascending=False)\n",
    "\n",
    "# save to .csv\n",
    "df.to_csv(\"stakers.csv\", index=False)\n",
    "\n",
    "# Display rich-list\n",
    "df.head(10)"
   ]
  },
  {
   "cell_type": "code",
   "execution_count": 509,
   "metadata": {},
   "outputs": [
    {
     "data": {
      "text/plain": [
       "<seaborn.axisgrid.FacetGrid at 0x29f8cd7c0>"
      ]
     },
     "execution_count": 509,
     "metadata": {},
     "output_type": "execute_result"
    },
    {
     "data": {
      "image/png": "[encoded data removed]",
      "text/plain": [
       "<Figure size 360x360 with 1 Axes>"
      ]
     },
     "metadata": {
      "needs_background": "light"
     },
     "output_type": "display_data"
    }
   ],
   "source": [
    "# Plotting\n",
    "\n",
    "#sns.jointplot(x=df['original'], y=df['time'], data=df, kind='reg')\n",
    "\n",
    "#df.hist()\n",
    "\n",
    "#sns.catplot(x=\"date\", y=\"original\", jitter=False, data=df)\n",
    "#sns.catplot(x=\"original\", y=\"date\", hue=\"time\", kind=\"swarm\", data=df)\n",
    "\n",
    "# Grab just the date\n",
    "df['date'] = df['stakeTime'].str.slice(0,10)\n",
    "\n",
    "\n",
    "#df['date'] = pd.to_datetime(df['date'])\n",
    "#df['date'] = df['date'].astype('datetime64[ns]')\n",
    "\n",
    "# Plot \n",
    "sns.catplot(x=\"originalAmountStaked\", y=\"date\",  data=df)\n",
    "\n"
   ]
  },
  {
   "cell_type": "code",
   "execution_count": 502,
   "metadata": {},
   "outputs": [
    {
     "data": {
      "text/plain": [
       "<seaborn.axisgrid.FacetGrid at 0x29c3c2ac0>"
      ]
     },
     "execution_count": 502,
     "metadata": {},
     "output_type": "execute_result"
    },
    {
     "data": {
      "image/png": "[encoded data removed]",
      "text/plain": [
       "<Figure size 360x360 with 1 Axes>"
      ]
     },
     "metadata": {
      "needs_background": "light"
     },
     "output_type": "display_data"
    }
   ],
   "source": [
    "# violin plot\n",
    "sns.catplot(x=\"date\", y=\"originalAmountStaked\", hue=\"date\",\n",
    "            kind=\"violin\", data=df)"
   ]
  },
  {
   "cell_type": "code",
   "execution_count": 511,
   "metadata": {},
   "outputs": [
    {
     "data": {
      "text/html": [
       "<div>\n",
       "<style scoped>\n",
       "    .dataframe tbody tr th:only-of-type {\n",
       "        vertical-align: middle;\n",
       "    }\n",
       "\n",
       "    .dataframe tbody tr th {\n",
       "        vertical-align: top;\n",
       "    }\n",
       "\n",
       "    .dataframe thead th {\n",
       "        text-align: right;\n",
       "    }\n",
       "</style>\n",
       "<table border=\"1\" class=\"dataframe\">\n",
       "  <thead>\n",
       "    <tr style=\"text-align: right;\">\n",
       "      <th></th>\n",
       "      <th>id</th>\n",
       "      <th>name</th>\n",
       "      <th>originalAmountStaked</th>\n",
       "      <th>stakeTime</th>\n",
       "      <th>date</th>\n",
       "    </tr>\n",
       "  </thead>\n",
       "  <tbody>\n",
       "    <tr>\n",
       "      <th>1259</th>\n",
       "      <td>db1f54e1aa84d16756e64bef71362f0d6bc0ee18af25a6...</td>\n",
       "      <td>ergopad Stake Key</td>\n",
       "      <td>3010641.930</td>\n",
       "      <td>2022-02-27 21:30:27.412025</td>\n",
       "      <td>2022-02-27</td>\n",
       "    </tr>\n",
       "    <tr>\n",
       "      <th>1072</th>\n",
       "      <td>cb8cf1cf971177767b7429241353576643e8efe88cc0e1...</td>\n",
       "      <td>ergopad Stake Key</td>\n",
       "      <td>666666.000</td>\n",
       "      <td>2022-02-28 02:16:20.097260</td>\n",
       "      <td>2022-02-28</td>\n",
       "    </tr>\n",
       "    <tr>\n",
       "      <th>1086</th>\n",
       "      <td>85844a18657774dd430d6e8d7cd90f6ec9b50ef166a8ff...</td>\n",
       "      <td>ergopad Stake Key</td>\n",
       "      <td>535353.320</td>\n",
       "      <td>2022-02-28 01:45:08.015809</td>\n",
       "      <td>2022-02-28</td>\n",
       "    </tr>\n",
       "    <tr>\n",
       "      <th>1252</th>\n",
       "      <td>6de153bbeb2cddc08229c36100c2097a23147d43d5bcd5...</td>\n",
       "      <td>ergopad Stake Key</td>\n",
       "      <td>500634.660</td>\n",
       "      <td>2022-02-27 21:59:55.880988</td>\n",
       "      <td>2022-02-27</td>\n",
       "    </tr>\n",
       "  </tbody>\n",
       "</table>\n",
       "</div>"
      ],
      "text/plain": [
       "                                                     id               name  \\\n",
       "1259  db1f54e1aa84d16756e64bef71362f0d6bc0ee18af25a6...  ergopad Stake Key   \n",
       "1072  cb8cf1cf971177767b7429241353576643e8efe88cc0e1...  ergopad Stake Key   \n",
       "1086  85844a18657774dd430d6e8d7cd90f6ec9b50ef166a8ff...  ergopad Stake Key   \n",
       "1252  6de153bbeb2cddc08229c36100c2097a23147d43d5bcd5...  ergopad Stake Key   \n",
       "\n",
       "      originalAmountStaked                   stakeTime        date  \n",
       "1259           3010641.930  2022-02-27 21:30:27.412025  2022-02-27  \n",
       "1072            666666.000  2022-02-28 02:16:20.097260  2022-02-28  \n",
       "1086            535353.320  2022-02-28 01:45:08.015809  2022-02-28  \n",
       "1252            500634.660  2022-02-27 21:59:55.880988  2022-02-27  "
      ]
     },
     "execution_count": 511,
     "metadata": {},
     "output_type": "execute_result"
    }
   ],
   "source": [
    "# trimming top 4 \n",
    "\n",
    "# df_trim = df.iloc[:4 , :]\n",
    "\n",
    "df_trim = df.drop(df[df.originalAmountStaked == 1000000.000].index)\n",
    "\n",
    "df_trim.head(4)"
   ]
  },
  {
   "cell_type": "code",
   "execution_count": 512,
   "metadata": {},
   "outputs": [
    {
     "data": {
      "text/plain": [
       "<seaborn.axisgrid.FacetGrid at 0x29fa06be0>"
      ]
     },
     "execution_count": 512,
     "metadata": {},
     "output_type": "execute_result"
    },
    {
     "data": {
      "image/png": "[encoded data removed]",
      "text/plain": [
       "<Figure size 360x360 with 1 Axes>"
      ]
     },
     "metadata": {
      "needs_background": "light"
     },
     "output_type": "display_data"
    }
   ],
   "source": [
    "# Distribution without the top 4 \n",
    "sns.catplot(x=\"originalAmountStaked\", y=\"date\",  data=df_trim)"
   ]
  }
 ],
 "metadata": {
  "interpreter": {
   "hash": "b0fa6594d8f4cbf19f97940f81e996739fb7646882a419484c72d19e05852a7e"
  },
  "kernelspec": {
   "display_name": "Python 3.9.9 64-bit",
   "language": "python",
   "name": "python3"
  },
  "language_info": {
   "codemirror_mode": {
    "name": "ipython",
    "version": 3
   },
   "file_extension": ".py",
   "mimetype": "text/x-python",
   "name": "python",
   "nbconvert_exporter": "python",
   "pygments_lexer": "ipython3",
   "version": "3.8.9"
  },
  "orig_nbformat": 4
 },
 "nbformat": 4,
 "nbformat_minor": 2
}

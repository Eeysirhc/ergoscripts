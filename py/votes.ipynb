{
 "cells": [
  {
   "cell_type": "code",
   "execution_count": 1,
   "metadata": {},
   "outputs": [],
   "source": [
    "#pip install pandas\n",
    "import pandas as pd\n",
    "import requests\n",
    "pd.set_option('display.float_format', lambda x: '%.3f' % x)\n",
    "pd.options.display.max_rows = 999"
   ]
  },
  {
   "cell_type": "code",
   "execution_count": 2,
   "metadata": {},
   "outputs": [],
   "source": [
    "import requests\n",
    "\n",
    "url = 'https://api.ergoplatform.com/api/v1/blocks/?limit=100&offset=0'\n",
    "#url = 'http://127.0.0.1:9053/blocks?limit=100&offset=0'\n",
    "r = requests.get(url)\n",
    "\n",
    "json = r.json()\n"
   ]
  },
  {
   "cell_type": "code",
   "execution_count": 3,
   "metadata": {},
   "outputs": [
    {
     "data": {
      "text/plain": [
       "dict_keys(['items', 'total'])"
      ]
     },
     "execution_count": 3,
     "metadata": {},
     "output_type": "execute_result"
    }
   ],
   "source": [
    "# Query the json directly\n",
    "\n",
    "json.keys()\n",
    "#json['items']\n",
    "#json['total']\n",
    "#json"
   ]
  },
  {
   "cell_type": "code",
   "execution_count": 4,
   "metadata": {},
   "outputs": [
    {
     "name": "stdout",
     "output_type": "stream",
     "text": [
      "Vote set\n",
      "752533 epoch 734\n",
      "752532 epoch 734\n",
      "752531 epoch 734\n",
      "752529 epoch 734\n",
      "752528 epoch 734\n",
      "752527 epoch 734\n",
      "752526 epoch 734\n",
      "752525 epoch 734\n",
      "752524 epoch 734\n",
      "752521 epoch 734\n",
      "752519 epoch 734\n",
      "752518 epoch 734\n",
      "752517 epoch 734\n",
      "752516 epoch 734\n",
      "752515 epoch 734\n",
      "752514 epoch 734\n",
      "752513 epoch 734\n",
      "752512 epoch 734\n",
      "752511 epoch 734\n",
      "752510 epoch 734\n",
      "752508 epoch 734\n",
      "752506 epoch 734\n",
      "752504 epoch 734\n",
      "752503 epoch 734\n",
      "752502 epoch 734\n",
      "752501 epoch 734\n",
      "752499 epoch 734\n",
      "752498 epoch 734\n",
      "752495 epoch 734\n",
      "752494 epoch 734\n",
      "752492 epoch 734\n",
      "752491 epoch 734\n",
      "752490 epoch 734\n",
      "752488 epoch 734\n",
      "752487 epoch 734\n",
      "752486 epoch 734\n",
      "752483 epoch 734\n",
      "752482 epoch 734\n",
      "752481 epoch 734\n",
      "752480 epoch 734\n",
      "752475 epoch 734\n",
      "752471 epoch 734\n",
      "752470 epoch 734\n",
      "752469 epoch 734\n",
      "752468 epoch 734\n",
      "752467 epoch 734\n",
      "752464 epoch 734\n",
      "752463 epoch 734\n",
      "752462 epoch 734\n",
      "752461 epoch 734\n",
      "752460 epoch 734\n",
      "752459 epoch 734\n",
      "752458 epoch 734\n",
      "752457 epoch 734\n",
      "752456 epoch 734\n",
      "752454 epoch 734\n",
      "752453 epoch 734\n",
      "752450 epoch 734\n",
      "752449 epoch 734\n",
      "752448 epoch 734\n",
      "752446 epoch 734\n",
      "752445 epoch 734\n",
      "752440 epoch 734\n",
      "752438 epoch 734\n",
      "752436 epoch 734\n",
      "752434 epoch 734\n",
      "Yes: 66\n",
      "No: 34\n"
     ]
    }
   ],
   "source": [
    "# load json into a dataframe\n",
    "df = pd.DataFrame(json['items'])\n",
    "df['id']\n",
    "\n",
    "yes = 0\n",
    "no = 0\n",
    "\n",
    "print('Vote set')\n",
    "for id in df['id']:\n",
    "    url = 'https://api.ergoplatform.com/api/v1/blocks/'+id\n",
    "    r = requests.get(url)\n",
    "    vote_blocks = r.json()\n",
    "    df2 = pd.DataFrame(vote_blocks)\n",
    "    vote = df2['block'][0]['votes']\n",
    "    \n",
    "    if vote[0] == 8:\n",
    "        yes += 1\n",
    "        print(df2['block'][0]['height'], 'epoch', df2['block'][0]['epoch'])\n",
    "    else:\n",
    "        no += 1\n",
    "        \n",
    "print('Yes:', yes)\n",
    "print('No:', no)\n"
   ]
  },
  {
   "cell_type": "code",
   "execution_count": 5,
   "metadata": {},
   "outputs": [
    {
     "data": {
      "text/plain": [
       "734"
      ]
     },
     "execution_count": 5,
     "metadata": {},
     "output_type": "execute_result"
    }
   ],
   "source": [
    "df2['block'][0]['epoch']\n"
   ]
  },
  {
   "cell_type": "code",
   "execution_count": null,
   "metadata": {},
   "outputs": [],
   "source": []
  }
 ],
 "metadata": {
  "interpreter": {
   "hash": "b0fa6594d8f4cbf19f97940f81e996739fb7646882a419484c72d19e05852a7e"
  },
  "kernelspec": {
   "display_name": "Python 3.9.9 64-bit",
   "language": "python",
   "name": "python3"
  },
  "language_info": {
   "codemirror_mode": {
    "name": "ipython",
    "version": 3
   },
   "file_extension": ".py",
   "mimetype": "text/x-python",
   "name": "python",
   "nbconvert_exporter": "python",
   "pygments_lexer": "ipython3",
   "version": "3.8.9"
  },
  "orig_nbformat": 4
 },
 "nbformat": 4,
 "nbformat_minor": 2
}

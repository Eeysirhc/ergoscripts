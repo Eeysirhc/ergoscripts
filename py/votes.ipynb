{
 "cells": [
  {
   "cell_type": "code",
   "execution_count": 127,
   "metadata": {},
   "outputs": [],
   "source": [
    "#pip install pandas\n",
    "import pandas as pd\n",
    "import requests\n",
    "pd.set_option('display.float_format', lambda x: '%.3f' % x)\n",
    "pd.options.display.max_rows = 999"
   ]
  },
  {
   "cell_type": "code",
   "execution_count": 128,
   "metadata": {},
   "outputs": [],
   "source": [
    "import requests\n",
    "\n",
    "url = 'https://api.ergoplatform.com/api/v1/blocks/?limit=100&offset=0'\n",
    "#url = 'http://127.0.0.1:9053/blocks?limit=100&offset=0'\n",
    "r = requests.get(url)\n",
    "\n",
    "json = r.json()\n"
   ]
  },
  {
   "cell_type": "code",
   "execution_count": 129,
   "metadata": {},
   "outputs": [
    {
     "data": {
      "text/plain": [
       "dict_keys(['items', 'total'])"
      ]
     },
     "execution_count": 129,
     "metadata": {},
     "output_type": "execute_result"
    }
   ],
   "source": [
    "# Query the json directly\n",
    "\n",
    "json.keys()\n",
    "#json['items']\n",
    "#json['total']\n",
    "#json"
   ]
  },
  {
   "cell_type": "code",
   "execution_count": 130,
   "metadata": {},
   "outputs": [
    {
     "name": "stdout",
     "output_type": "stream",
     "text": [
      "Indicative voting not set for block..\n",
      "687949 epoch 671\n",
      "687948 epoch 671\n",
      "687947 epoch 671\n",
      "687946 epoch 671\n",
      "687945 epoch 671\n",
      "687944 epoch 671\n",
      "687943 epoch 671\n",
      "687942 epoch 671\n",
      "687941 epoch 671\n",
      "687940 epoch 671\n",
      "687939 epoch 671\n",
      "687938 epoch 671\n",
      "687937 epoch 671\n",
      "687936 epoch 671\n",
      "687935 epoch 671\n",
      "687934 epoch 671\n",
      "687933 epoch 671\n",
      "687932 epoch 671\n",
      "687931 epoch 671\n",
      "687930 epoch 671\n",
      "687929 epoch 671\n",
      "687928 epoch 671\n",
      "687927 epoch 671\n",
      "687926 epoch 671\n",
      "687925 epoch 671\n",
      "687924 epoch 671\n",
      "687923 epoch 671\n"
     ]
    }
   ],
   "source": [
    "# load json into a dataframe\n",
    "df = pd.DataFrame(json['items'])\n",
    "df['id']\n",
    "\n",
    "yes = 0\n",
    "no = 0\n",
    "\n",
    "print('Indicative voting not set for block..')\n",
    "for id in df['id']:\n",
    "    url = 'https://api.ergoplatform.com/api/v1/blocks/'+id\n",
    "    r = requests.get(url)\n",
    "    vote_blocks = r.json()\n",
    "    df2 = pd.DataFrame(vote_blocks)\n",
    "    vote = df2['block'][0]['votes']\n",
    "    \n",
    "    if vote[0] == 4:\n",
    "        yes += 1\n",
    "    else:\n",
    "        no += 1\n",
    "        print(df2['block'][0]['height'], 'epoch', df2['block'][0]['epoch'])\n",
    "       \n",
    "\n",
    "print('Yes:', yes)\n",
    "print('No:', no)\n",
    "\n",
    "        \n"
   ]
  },
  {
   "cell_type": "code",
   "execution_count": 108,
   "metadata": {},
   "outputs": [
    {
     "data": {
      "text/plain": [
       "670"
      ]
     },
     "execution_count": 108,
     "metadata": {},
     "output_type": "execute_result"
    }
   ],
   "source": [
    "df2['block'][0]['epoch']\n"
   ]
  },
  {
   "cell_type": "code",
   "execution_count": null,
   "metadata": {},
   "outputs": [],
   "source": []
  }
 ],
 "metadata": {
  "interpreter": {
   "hash": "b0fa6594d8f4cbf19f97940f81e996739fb7646882a419484c72d19e05852a7e"
  },
  "kernelspec": {
   "display_name": "Python 3.9.9 64-bit",
   "language": "python",
   "name": "python3"
  },
  "language_info": {
   "codemirror_mode": {
    "name": "ipython",
    "version": 3
   },
   "file_extension": ".py",
   "mimetype": "text/x-python",
   "name": "python",
   "nbconvert_exporter": "python",
   "pygments_lexer": "ipython3",
   "version": "3.8.9"
  },
  "orig_nbformat": 4
 },
 "nbformat": 4,
 "nbformat_minor": 2
}

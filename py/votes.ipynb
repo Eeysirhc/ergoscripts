{
 "cells": [
  {
   "cell_type": "code",
   "execution_count": 1,
   "metadata": {},
   "outputs": [],
   "source": [
    "#pip install pandas\n",
    "import pandas as pd\n",
    "import requests\n",
    "pd.set_option('display.float_format', lambda x: '%.3f' % x)\n",
    "pd.options.display.max_rows = 999"
   ]
  },
  {
   "cell_type": "code",
   "execution_count": 2,
   "metadata": {},
   "outputs": [],
   "source": [
    "import requests\n",
    "\n",
    "url = 'https://api.ergoplatform.com/api/v1/blocks/?limit=100&offset=0'\n",
    "#url = 'http://127.0.0.1:9053/blocks?limit=100&offset=0'\n",
    "r = requests.get(url)\n",
    "\n",
    "json = r.json()\n"
   ]
  },
  {
   "cell_type": "code",
   "execution_count": 3,
   "metadata": {},
   "outputs": [
    {
     "data": {
      "text/plain": [
       "dict_keys(['items', 'total'])"
      ]
     },
     "execution_count": 3,
     "metadata": {},
     "output_type": "execute_result"
    }
   ],
   "source": [
    "# Query the json directly\n",
    "\n",
    "json.keys()\n",
    "#json['items']\n",
    "#json['total']\n",
    "#json"
   ]
  },
  {
   "cell_type": "code",
   "execution_count": 4,
   "metadata": {},
   "outputs": [
    {
     "name": "stdout",
     "output_type": "stream",
     "text": [
      "Vote set\n",
      "753022 epoch 735 ==no\n",
      "753019 epoch 735 ==no\n",
      "753016 epoch 735 ==no\n",
      "753014 epoch 735 ==no\n",
      "753013 epoch 735 ==no\n",
      "753012 epoch 735 ==no\n",
      "753010 epoch 735 ==no\n",
      "753006 epoch 735 ==no\n",
      "753001 epoch 735 ==no\n",
      "753000 epoch 735 ==no\n",
      "752993 epoch 735 ==no\n",
      "752992 epoch 735 ==no\n",
      "752983 epoch 735 ==no\n",
      "752977 epoch 735 ==no\n",
      "752975 epoch 735 ==no\n",
      "752969 epoch 735 ==no\n",
      "752966 epoch 735 ==no\n",
      "752964 epoch 735 ==no\n",
      "752960 epoch 735 ==no\n",
      "752959 epoch 735 ==no\n",
      "752950 epoch 735 ==no\n",
      "752946 epoch 735 ==no\n",
      "752942 epoch 735 ==no\n",
      "752940 epoch 735 ==no\n",
      "752933 epoch 735 ==no\n",
      "Yes: 75\n",
      "No: 25\n"
     ]
    }
   ],
   "source": [
    "# load json into a dataframe\n",
    "df = pd.DataFrame(json['items'])\n",
    "df['id']\n",
    "\n",
    "yes = 0\n",
    "no = 0\n",
    "\n",
    "print('Vote set')\n",
    "for id in df['id']:\n",
    "    url = 'https://api.ergoplatform.com/api/v1/blocks/'+id\n",
    "    r = requests.get(url)\n",
    "    vote_blocks = r.json()\n",
    "    df2 = pd.DataFrame(vote_blocks)\n",
    "    vote = df2['block'][0]['votes']\n",
    "    \n",
    "    if vote[0] == 8:\n",
    "        yes += 1\n",
    "        \n",
    "    else:\n",
    "        print(df2['block'][0]['height'], 'epoch', df2['block'][0]['epoch'], \"==no\")\n",
    "        no += 1\n",
    "        \n",
    "print('Yes:', yes)\n",
    "print('No:', no)\n"
   ]
  },
  {
   "cell_type": "code",
   "execution_count": 5,
   "metadata": {},
   "outputs": [
    {
     "data": {
      "text/plain": [
       "735"
      ]
     },
     "execution_count": 5,
     "metadata": {},
     "output_type": "execute_result"
    }
   ],
   "source": [
    "df2['block'][0]['epoch']\n"
   ]
  },
  {
   "cell_type": "code",
   "execution_count": null,
   "metadata": {},
   "outputs": [],
   "source": []
  }
 ],
 "metadata": {
  "interpreter": {
   "hash": "b0fa6594d8f4cbf19f97940f81e996739fb7646882a419484c72d19e05852a7e"
  },
  "kernelspec": {
   "display_name": "Python 3.9.9 64-bit",
   "language": "python",
   "name": "python3"
  },
  "language_info": {
   "codemirror_mode": {
    "name": "ipython",
    "version": 3
   },
   "file_extension": ".py",
   "mimetype": "text/x-python",
   "name": "python",
   "nbconvert_exporter": "python",
   "pygments_lexer": "ipython3",
   "version": "3.8.9"
  },
  "orig_nbformat": 4
 },
 "nbformat": 4,
 "nbformat_minor": 2
}

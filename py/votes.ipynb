{
 "cells": [
  {
   "cell_type": "code",
   "execution_count": 1,
   "metadata": {},
   "outputs": [],
   "source": [
    "#pip install pandas\n",
    "import pandas as pd\n",
    "import requests\n",
    "pd.set_option('display.float_format', lambda x: '%.3f' % x)\n",
    "pd.options.display.max_rows = 999"
   ]
  },
  {
   "cell_type": "code",
   "execution_count": 2,
   "metadata": {},
   "outputs": [],
   "source": [
    "import requests\n",
    "\n",
    "url = 'https://api.ergoplatform.com/api/v1/blocks/?limit=100&offset=0'\n",
    "#url = 'http://127.0.0.1:9053/blocks?limit=100&offset=0'\n",
    "r = requests.get(url)\n",
    "\n",
    "json = r.json()\n"
   ]
  },
  {
   "cell_type": "code",
   "execution_count": 3,
   "metadata": {},
   "outputs": [
    {
     "data": {
      "text/plain": [
       "dict_keys(['items', 'total'])"
      ]
     },
     "execution_count": 3,
     "metadata": {},
     "output_type": "execute_result"
    }
   ],
   "source": [
    "# Query the json directly\n",
    "\n",
    "json.keys()\n",
    "#json['items']\n",
    "#json['total']\n",
    "#json"
   ]
  },
  {
   "cell_type": "code",
   "execution_count": 4,
   "metadata": {},
   "outputs": [
    {
     "name": "stdout",
     "output_type": "stream",
     "text": [
      "Indicative voting not set for block..\n",
      "703185 epoch 686\n",
      "703184 epoch 686\n",
      "703183 epoch 686\n",
      "703182 epoch 686\n",
      "703181 epoch 686\n",
      "703180 epoch 686\n",
      "703179 epoch 686\n",
      "703178 epoch 686\n",
      "703177 epoch 686\n",
      "703176 epoch 686\n",
      "703175 epoch 686\n",
      "703174 epoch 686\n",
      "703173 epoch 686\n",
      "703172 epoch 686\n",
      "703171 epoch 686\n",
      "703170 epoch 686\n",
      "703169 epoch 686\n",
      "703168 epoch 686\n",
      "703167 epoch 686\n",
      "703166 epoch 686\n",
      "703165 epoch 686\n",
      "703164 epoch 686\n",
      "703163 epoch 686\n",
      "703162 epoch 686\n",
      "703161 epoch 686\n",
      "703160 epoch 686\n",
      "703159 epoch 686\n",
      "703158 epoch 686\n",
      "703157 epoch 686\n",
      "703156 epoch 686\n",
      "703155 epoch 686\n",
      "703154 epoch 686\n",
      "703153 epoch 686\n",
      "703152 epoch 686\n",
      "703151 epoch 686\n",
      "703150 epoch 686\n",
      "703149 epoch 686\n",
      "703148 epoch 686\n",
      "703147 epoch 686\n",
      "703146 epoch 686\n",
      "703145 epoch 686\n",
      "703144 epoch 686\n",
      "703143 epoch 686\n",
      "703142 epoch 686\n",
      "703141 epoch 686\n",
      "703140 epoch 686\n",
      "703139 epoch 686\n",
      "703138 epoch 686\n",
      "703137 epoch 686\n",
      "703136 epoch 686\n",
      "703135 epoch 686\n",
      "703134 epoch 686\n",
      "703133 epoch 686\n",
      "703132 epoch 686\n",
      "703131 epoch 686\n",
      "703130 epoch 686\n",
      "703129 epoch 686\n",
      "703128 epoch 686\n",
      "703127 epoch 686\n",
      "703126 epoch 686\n",
      "703125 epoch 686\n",
      "703124 epoch 686\n",
      "703123 epoch 686\n",
      "703122 epoch 686\n",
      "703121 epoch 686\n",
      "703120 epoch 686\n",
      "703119 epoch 686\n",
      "703118 epoch 686\n",
      "703117 epoch 686\n",
      "703116 epoch 686\n",
      "703115 epoch 686\n",
      "703114 epoch 686\n",
      "703113 epoch 686\n",
      "703112 epoch 686\n",
      "703111 epoch 686\n",
      "703110 epoch 686\n",
      "703109 epoch 686\n",
      "703108 epoch 686\n",
      "703107 epoch 686\n",
      "703106 epoch 686\n",
      "703105 epoch 686\n",
      "703104 epoch 686\n",
      "703103 epoch 686\n",
      "703102 epoch 686\n",
      "703101 epoch 686\n",
      "703100 epoch 686\n",
      "703099 epoch 686\n",
      "703098 epoch 686\n",
      "703097 epoch 686\n",
      "703096 epoch 686\n",
      "703095 epoch 686\n",
      "703094 epoch 686\n",
      "703093 epoch 686\n",
      "703092 epoch 686\n",
      "703091 epoch 686\n",
      "703090 epoch 686\n",
      "703089 epoch 686\n",
      "703088 epoch 686\n",
      "703087 epoch 686\n",
      "703086 epoch 686\n",
      "Yes: 0\n",
      "No: 100\n"
     ]
    }
   ],
   "source": [
    "# load json into a dataframe\n",
    "df = pd.DataFrame(json['items'])\n",
    "df['id']\n",
    "\n",
    "yes = 0\n",
    "no = 0\n",
    "\n",
    "print('Indicative voting not set for block..')\n",
    "for id in df['id']:\n",
    "    url = 'https://api.ergoplatform.com/api/v1/blocks/'+id\n",
    "    r = requests.get(url)\n",
    "    vote_blocks = r.json()\n",
    "    df2 = pd.DataFrame(vote_blocks)\n",
    "    vote = df2['block'][0]['votes']\n",
    "    \n",
    "    if vote[0] == 4:\n",
    "        yes += 1\n",
    "    else:\n",
    "        no += 1\n",
    "        print(df2['block'][0]['height'], 'epoch', df2['block'][0]['epoch'])\n",
    "       \n",
    "\n",
    "print('Yes:', yes)\n",
    "print('No:', no)\n",
    "\n",
    "        \n"
   ]
  },
  {
   "cell_type": "code",
   "execution_count": 5,
   "metadata": {},
   "outputs": [
    {
     "data": {
      "text/plain": [
       "686"
      ]
     },
     "execution_count": 5,
     "metadata": {},
     "output_type": "execute_result"
    }
   ],
   "source": [
    "df2['block'][0]['epoch']\n"
   ]
  },
  {
   "cell_type": "code",
   "execution_count": null,
   "metadata": {},
   "outputs": [],
   "source": []
  }
 ],
 "metadata": {
  "interpreter": {
   "hash": "b0fa6594d8f4cbf19f97940f81e996739fb7646882a419484c72d19e05852a7e"
  },
  "kernelspec": {
   "display_name": "Python 3.9.9 64-bit",
   "language": "python",
   "name": "python3"
  },
  "language_info": {
   "codemirror_mode": {
    "name": "ipython",
    "version": 3
   },
   "file_extension": ".py",
   "mimetype": "text/x-python",
   "name": "python",
   "nbconvert_exporter": "python",
   "pygments_lexer": "ipython3",
   "version": "3.8.9"
  },
  "orig_nbformat": 4
 },
 "nbformat": 4,
 "nbformat_minor": 2
}
